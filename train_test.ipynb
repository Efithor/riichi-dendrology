{
 "cells": [
  {
   "cell_type": "code",
   "execution_count": 107,
   "id": "b56db20d-d4af-4195-8536-c0d7111dda93",
   "metadata": {},
   "outputs": [],
   "source": [
    "import torch\n",
    "import torch.nn as nn\n",
    "from torch.utils.data import Dataset, DataLoader\n",
    "from torch.cuda.amp import autocast, GradScaler\n",
    "import numpy as np\n",
    "import pandas as pd\n",
    "from sklearn.model_selection import train_test_split\n",
    "import ast\n",
    "import matplotlib.pyplot as plt\n",
    "from sklearn.metrics import roc_curve, auc\n",
    "from captum.attr import IntegratedGradients, LayerIntegratedGradients\n",
    "from tqdm import tqdm"
   ]
  },
  {
   "cell_type": "code",
   "execution_count": 93,
   "id": "d3be10ba-46af-49a1-a8de-651a38802e48",
   "metadata": {},
   "outputs": [
    {
     "data": {
      "text/plain": [
       "True"
      ]
     },
     "execution_count": 93,
     "metadata": {},
     "output_type": "execute_result"
    }
   ],
   "source": [
    "torch.cuda.is_available()"
   ]
  },
  {
   "cell_type": "code",
   "execution_count": 3,
   "id": "62b8d57e-8d7a-4779-be87-9de0c19d5324",
   "metadata": {},
   "outputs": [],
   "source": [
    "class SequenceDataset(Dataset):\n",
    "    def __init__(self, df, exog_col='exog', endog_col='endog'):\n",
    "        \"\"\"\n",
    "        df: a pandas DataFrame with two columns:\n",
    "            - exog_col: list of integers (sequence)\n",
    "            - endog_col: binary label (0 or 1)\n",
    "        \"\"\"\n",
    "        self.sequences = df[exog_col].tolist()\n",
    "        self.labels = df[endog_col].tolist()\n",
    "\n",
    "    def __len__(self):\n",
    "        return len(self.sequences)\n",
    "\n",
    "    def __getitem__(self, idx):\n",
    "        return self.sequences[idx], self.labels[idx]"
   ]
  },
  {
   "cell_type": "code",
   "execution_count": 4,
   "id": "7a6b2843-ebca-4a94-8b33-e73307c33c0e",
   "metadata": {},
   "outputs": [],
   "source": [
    "def collate_fn(batch):\n",
    "    \"\"\"\n",
    "    Pads sequences in a batch to the same length.\n",
    "    \"\"\"\n",
    "    # Separate sequences and labels\n",
    "    sequences, labels = zip(*batch)\n",
    "\n",
    "    # Find max length within this batch\n",
    "    max_length = max(len(seq) for seq in sequences)\n",
    "\n",
    "    # Pad sequences with 0 (or a special PAD token id if you have one)\n",
    "    padded_sequences = []\n",
    "    for seq in sequences:\n",
    "        padded = seq + [34]*(max_length - len(seq))\n",
    "        padded_sequences.append(padded)\n",
    "\n",
    "    # Convert to tensors\n",
    "    padded_sequences = torch.tensor(padded_sequences, dtype=torch.long)\n",
    "    labels = torch.tensor(labels, dtype=torch.float)\n",
    "\n",
    "    return padded_sequences, labels"
   ]
  },
  {
   "cell_type": "code",
   "execution_count": 5,
   "id": "535d7fe2-de9b-4d4e-b8a0-612bf9961cc3",
   "metadata": {},
   "outputs": [],
   "source": [
    "class TransformerBinaryClassifier(nn.Module):\n",
    "    def __init__(\n",
    "        self,\n",
    "        vocab_size,\n",
    "        embed_dim=64,\n",
    "        num_heads=2,\n",
    "        num_layers=2,\n",
    "        ff_dim=128,\n",
    "        dropout=0.1\n",
    "    ):\n",
    "        \"\"\"\n",
    "        vocab_size: size of the vocabulary (max integer token + 1).\n",
    "        embed_dim: embedding dimension.\n",
    "        num_heads: number of attention heads in the MultiheadAttention.\n",
    "        num_layers: number of transformer encoder layers to stack.\n",
    "        ff_dim: hidden dim in the feed-forward network of each encoder layer.\n",
    "        dropout: dropout probability.\n",
    "        \"\"\"\n",
    "        super().__init__()\n",
    "\n",
    "        self.embedding = nn.Embedding(vocab_size, embed_dim)\n",
    "\n",
    "        # Positional encoding (optional). If sequences can be very long,\n",
    "        # consider a standard sinusoidal positional encoding approach.\n",
    "        # Here we just show a simple learned positional embedding for demonstration:\n",
    "        self.pos_embedding = nn.Embedding(5000, embed_dim)  # 5000 is arbitrary\n",
    "\n",
    "        encoder_layer = nn.TransformerEncoderLayer(\n",
    "            d_model=embed_dim,\n",
    "            nhead=num_heads,\n",
    "            dim_feedforward=ff_dim,\n",
    "            dropout=dropout,\n",
    "            batch_first=True  # ensures shape is (batch, seq, embed_dim)\n",
    "        )\n",
    "        self.transformer_encoder = nn.TransformerEncoder(\n",
    "            encoder_layer,\n",
    "            num_layers=num_layers\n",
    "        )\n",
    "\n",
    "        self.classifier = nn.Linear(embed_dim, 1)  # single output for binary\n",
    "\n",
    "    def forward(self, x):\n",
    "        \"\"\"\n",
    "        x: [batch_size, seq_len] of token IDs\n",
    "        \"\"\"\n",
    "        batch_size, seq_len = x.shape\n",
    "\n",
    "        # Token embeddings\n",
    "        token_embeddings = self.embedding(x)  # [batch_size, seq_len, embed_dim]\n",
    "\n",
    "        # Positional embeddings (very simple version)\n",
    "        positions = torch.arange(0, seq_len, device=x.device).unsqueeze(0)  # [1, seq_len]\n",
    "        pos_embeddings = self.pos_embedding(positions)  # [1, seq_len, embed_dim]\n",
    "\n",
    "        # Combine token and positional embeddings\n",
    "        embeddings = token_embeddings + pos_embeddings\n",
    "\n",
    "        # Transformer Encoder\n",
    "        encoder_output = self.transformer_encoder(embeddings)  \n",
    "        # [batch_size, seq_len, embed_dim]\n",
    "\n",
    "        # For classification, we often just take the output at the last token\n",
    "        # or the pooled [CLS] representation if we have one. Another approach:\n",
    "        # do a mean or max pooling across seq_len.\n",
    "        # We'll do mean pooling across the sequence dimension:\n",
    "        pooled_output = encoder_output.mean(dim=1)  # [batch_size, embed_dim]\n",
    "\n",
    "        # Final linear layer -> raw logits\n",
    "        logits = self.classifier(pooled_output).squeeze(-1)  # [batch_size]\n",
    "\n",
    "        return logits"
   ]
  },
  {
   "cell_type": "code",
   "execution_count": 29,
   "id": "7c9a192b-b8cb-43b1-9484-812da96e31d5",
   "metadata": {},
   "outputs": [],
   "source": [
    "def train_model(\n",
    "    model, \n",
    "    train_loader, \n",
    "    val_loader, \n",
    "    num_epochs=5, \n",
    "    lr=1e-3, \n",
    "    device='cuda'\n",
    "):\n",
    "    criterion = nn.BCEWithLogitsLoss()\n",
    "    optimizer = torch.optim.Adam(model.parameters(), lr=lr)\n",
    "    \n",
    "    # GradScaler for scaling loss in mixed precision\n",
    "    scaler = GradScaler()\n",
    "    \n",
    "    model.to(device)\n",
    "\n",
    "    for epoch in range(num_epochs):\n",
    "        model.train()\n",
    "        total_loss = 0.0\n",
    "        total_acc = 0.0\n",
    "        total_count = 0\n",
    "\n",
    "        for sequences, labels in train_loader:\n",
    "            sequences = sequences.to(device)\n",
    "            labels = labels.to(device)\n",
    "\n",
    "            optimizer.zero_grad()\n",
    "\n",
    "            # Forward pass under autocast\n",
    "            # You can optionally set the precision as fp16 or bfloat16 below\n",
    "            # with autocast(device_type='cuda', dtype=torch.bfloat16):\n",
    "            with autocast():\n",
    "                logits = model(sequences)\n",
    "                loss = criterion(logits, labels)\n",
    "\n",
    "            # Backward pass with GradScaler\n",
    "            scaler.scale(loss).backward()\n",
    "            scaler.step(optimizer)\n",
    "            scaler.update()\n",
    "\n",
    "            # Compute training accuracy\n",
    "            preds = torch.sigmoid(logits)\n",
    "            preds_class = (preds >= 0.5).float()\n",
    "            acc = (preds_class == labels).float().sum()\n",
    "\n",
    "            # Accumulate metrics\n",
    "            batch_size = sequences.size(0)\n",
    "            total_loss += loss.item() * batch_size\n",
    "            total_acc += acc.item()\n",
    "            total_count += batch_size\n",
    "\n",
    "        avg_train_loss = total_loss / total_count\n",
    "        avg_train_acc = total_acc / total_count\n",
    "        \n",
    "        # Evaluate on validation set (optionally also under autocast)\n",
    "        val_loss, val_acc = evaluate_model(model, val_loader, device, criterion)\n",
    "\n",
    "        print(\n",
    "            f\"Epoch [{epoch+1}/{num_epochs}] \"\n",
    "            f\"Train Loss: {avg_train_loss:.4f}, Train Acc: {avg_train_acc:.4f}, \"\n",
    "            f\"Val Loss: {val_loss:.4f}, Val Acc: {val_acc:.4f}\"\n",
    "        )"
   ]
  },
  {
   "cell_type": "code",
   "execution_count": 7,
   "id": "a6a4e1d0-a49d-459b-aac7-719b58016959",
   "metadata": {},
   "outputs": [],
   "source": [
    "def evaluate_model(model, data_loader, device, criterion):\n",
    "    model.eval()\n",
    "    total_loss = 0.0\n",
    "    total_acc = 0.0\n",
    "    total_count = 0\n",
    "\n",
    "    with torch.no_grad():\n",
    "        # with autocast(device_type='cuda'):\n",
    "        for sequences, labels in data_loader:\n",
    "            sequences = sequences.to(device)\n",
    "            labels = labels.to(device)\n",
    "\n",
    "            logits = model(sequences)\n",
    "            loss = criterion(logits, labels)\n",
    "\n",
    "            preds = torch.sigmoid(logits)\n",
    "            preds_class = (preds >= 0.5).float()\n",
    "            acc = (preds_class == labels).float().sum()\n",
    "\n",
    "            batch_size = sequences.size(0)\n",
    "            total_loss += loss.item() * batch_size\n",
    "            total_acc += acc.item()\n",
    "            total_count += batch_size\n",
    "\n",
    "    avg_loss = total_loss / total_count\n",
    "    avg_acc = total_acc / total_count\n",
    "    return avg_loss, avg_acc\n"
   ]
  },
  {
   "cell_type": "code",
   "execution_count": 73,
   "id": "2f5aaf43-90aa-4d8e-83ec-d1a01f3a530f",
   "metadata": {},
   "outputs": [],
   "source": [
    "def evaluate_on_test_set(model, test_loader, device='cuda'):\n",
    "    \"\"\"\n",
    "    Generates predictions on the test set, then plots the ROC curve and prints the AUC.\n",
    "    \"\"\"\n",
    "    model.eval()\n",
    "    \n",
    "    all_labels = []\n",
    "    all_probs = []\n",
    "\n",
    "    with torch.no_grad():\n",
    "        for sequences, labels in test_loader:\n",
    "            sequences = sequences.to(device)\n",
    "            labels = labels.to(device)\n",
    "\n",
    "            # Forward pass\n",
    "            logits = model(sequences)\n",
    "            # Convert logits -> probabilities in [0, 1]\n",
    "            probs = torch.sigmoid(logits)\n",
    "\n",
    "            # Collect results for ROC\n",
    "            all_labels.extend(labels.cpu().numpy())\n",
    "            all_probs.extend(probs.cpu().numpy())\n",
    "\n",
    "    # Compute ROC curve\n",
    "    fpr, tpr, thresholds = roc_curve(all_labels, all_probs)\n",
    "    roc_auc = auc(fpr, tpr)\n",
    "\n",
    "    # Plot ROC curve\n",
    "    plt.figure()\n",
    "    plt.plot(fpr, tpr, label='ROC curve (area = {:.3f})'.format(roc_auc))\n",
    "    plt.plot([0, 1], [0, 1], linestyle='--')  # Diagonal for reference\n",
    "    plt.xlabel('False Positive Rate')\n",
    "    plt.ylabel('True Positive Rate')\n",
    "    plt.title('Test Set ROC Curve')\n",
    "    plt.legend(loc='lower right')\n",
    "    plt.show()\n",
    "\n",
    "    print(f\"Test AUC: {roc_auc:.3f}\")\n",
    "\n",
    "    return roc_auc, all_labels, all_probs"
   ]
  },
  {
   "cell_type": "markdown",
   "id": "94a9eb3f-5bb0-47e0-bdfd-2cca4075f1e3",
   "metadata": {},
   "source": [
    "# Load and split"
   ]
  },
  {
   "cell_type": "code",
   "execution_count": 52,
   "id": "ece70f78-612c-4d6a-bdd0-5e8102aecd86",
   "metadata": {},
   "outputs": [],
   "source": [
    "load = pd.read_csv('full_hands_df.csv')\n",
    "load['seq'] = load['seq'].apply(ast.literal_eval)"
   ]
  },
  {
   "cell_type": "code",
   "execution_count": 53,
   "id": "e15be83a-ad9d-445c-93b0-54c80d73a5b9",
   "metadata": {},
   "outputs": [],
   "source": [
    "load = load[['seq','is_chiitoi']]\n",
    "load = load.rename(columns={'seq':'exog','is_chiitoi':'endog'})"
   ]
  },
  {
   "cell_type": "code",
   "execution_count": 54,
   "id": "e4ba7e0f-a317-4542-be0f-46cea9610f6f",
   "metadata": {},
   "outputs": [
    {
     "data": {
      "text/plain": [
       "(210550, 2)"
      ]
     },
     "execution_count": 54,
     "metadata": {},
     "output_type": "execute_result"
    }
   ],
   "source": [
    "load.shape"
   ]
  },
  {
   "cell_type": "code",
   "execution_count": 55,
   "id": "b49b342e-807e-49b2-b30b-837660e22801",
   "metadata": {},
   "outputs": [],
   "source": [
    "df = load.copy()"
   ]
  },
  {
   "cell_type": "code",
   "execution_count": 56,
   "id": "4b69fd4b-5217-4748-8443-243c7505f4dc",
   "metadata": {},
   "outputs": [],
   "source": [
    "train, test = train_test_split(df, test_size=0.2)\n",
    "\n",
    "train, val = train_test_split(train, test_size=0.1)"
   ]
  },
  {
   "cell_type": "code",
   "execution_count": 127,
   "id": "671eb58f-62ac-4ab6-9636-5bb956d3dc74",
   "metadata": {},
   "outputs": [],
   "source": [
    "train.to_csv('run_3_11_2025/train.csv')\n",
    "test.to_csv('run_3_11_2025/test.csv')\n",
    "val.to_csv('run_3_11_2025/val.csv')"
   ]
  },
  {
   "cell_type": "code",
   "execution_count": 57,
   "id": "c962f7a3-76ef-4ae1-b18d-e3d83474cba9",
   "metadata": {},
   "outputs": [
    {
     "data": {
      "text/plain": [
       "(16844, 2)"
      ]
     },
     "execution_count": 57,
     "metadata": {},
     "output_type": "execute_result"
    }
   ],
   "source": [
    "val.shape"
   ]
  },
  {
   "cell_type": "markdown",
   "id": "b4bd7518-b288-4e22-ae82-b5e2774e5c55",
   "metadata": {},
   "source": [
    "# Train"
   ]
  },
  {
   "cell_type": "code",
   "execution_count": 58,
   "id": "1d918faa-3bcb-41af-ac11-6f6cd44cdeae",
   "metadata": {},
   "outputs": [],
   "source": [
    "train_dataset = SequenceDataset(train)\n",
    "val_dataset = SequenceDataset(val)\n",
    "test_dataset =  SequenceDataset(test)"
   ]
  },
  {
   "cell_type": "code",
   "execution_count": 101,
   "id": "9478ad30-bd02-462a-8e79-fb80047e1cee",
   "metadata": {},
   "outputs": [],
   "source": [
    "train_loader = DataLoader(train_dataset, \n",
    "                          batch_size=8192, \n",
    "                          shuffle=True, \n",
    "                          collate_fn=collate_fn,\n",
    "                          num_workers=8,\n",
    "                          pin_memory=True)\n",
    "\n",
    "val_loader = DataLoader(val_dataset, \n",
    "                        batch_size=8192, \n",
    "                        shuffle=False, \n",
    "                        collate_fn=collate_fn,\n",
    "                        num_workers=8,\n",
    "                        pin_memory=True)\n",
    "\n",
    "test_loader = DataLoader(test_dataset, \n",
    "                         batch_size=512, \n",
    "                         shuffle=False, \n",
    "                         collate_fn=collate_fn)"
   ]
  },
  {
   "cell_type": "code",
   "execution_count": 60,
   "id": "395d9754-9454-478a-ad73-db2b1ffe33e9",
   "metadata": {},
   "outputs": [],
   "source": [
    "vocab_size = 35"
   ]
  },
  {
   "cell_type": "code",
   "execution_count": 61,
   "id": "cf9054cb-bbd5-443d-9fc2-4c7e49dad352",
   "metadata": {},
   "outputs": [],
   "source": [
    "device = torch.device(\"cuda\")"
   ]
  },
  {
   "cell_type": "code",
   "execution_count": 65,
   "id": "d5230c8f-ca68-49fc-aef9-1f3084318fb9",
   "metadata": {},
   "outputs": [],
   "source": [
    "model = TransformerBinaryClassifier(\n",
    "    vocab_size=vocab_size,\n",
    "    embed_dim=32,\n",
    "    num_heads=2,\n",
    "    num_layers=10,\n",
    "    ff_dim=64,\n",
    "    dropout=0.1\n",
    ")"
   ]
  },
  {
   "cell_type": "code",
   "execution_count": 68,
   "id": "58ea7d62-9f58-435c-8836-a0e599e78ee6",
   "metadata": {},
   "outputs": [
    {
     "name": "stderr",
     "output_type": "stream",
     "text": [
      "/tmp/ipykernel_1580/49820654.py:13: FutureWarning: `torch.cuda.amp.GradScaler(args...)` is deprecated. Please use `torch.amp.GradScaler('cuda', args...)` instead.\n",
      "  scaler = GradScaler()\n",
      "/tmp/ipykernel_1580/49820654.py:32: FutureWarning: `torch.cuda.amp.autocast(args...)` is deprecated. Please use `torch.amp.autocast('cuda', args...)` instead.\n",
      "  with autocast():\n"
     ]
    },
    {
     "name": "stdout",
     "output_type": "stream",
     "text": [
      "Epoch [1/30] Train Loss: 0.0853, Train Acc: 0.9831, Val Loss: 0.0932, Val Acc: 0.9802\n",
      "Epoch [2/30] Train Loss: 0.0820, Train Acc: 0.9831, Val Loss: 0.0913, Val Acc: 0.9802\n",
      "Epoch [3/30] Train Loss: 0.0809, Train Acc: 0.9831, Val Loss: 0.0945, Val Acc: 0.9802\n",
      "Epoch [4/30] Train Loss: 0.0806, Train Acc: 0.9831, Val Loss: 0.0898, Val Acc: 0.9802\n",
      "Epoch [5/30] Train Loss: 0.0796, Train Acc: 0.9831, Val Loss: 0.0892, Val Acc: 0.9802\n",
      "Epoch [6/30] Train Loss: 0.0787, Train Acc: 0.9831, Val Loss: 0.0884, Val Acc: 0.9802\n",
      "Epoch [7/30] Train Loss: 0.0783, Train Acc: 0.9831, Val Loss: 0.0882, Val Acc: 0.9802\n",
      "Epoch [8/30] Train Loss: 0.0779, Train Acc: 0.9831, Val Loss: 0.0877, Val Acc: 0.9801\n",
      "Epoch [9/30] Train Loss: 0.0776, Train Acc: 0.9830, Val Loss: 0.0878, Val Acc: 0.9802\n",
      "Epoch [10/30] Train Loss: 0.0775, Train Acc: 0.9831, Val Loss: 0.0871, Val Acc: 0.9802\n",
      "Epoch [11/30] Train Loss: 0.0771, Train Acc: 0.9831, Val Loss: 0.0882, Val Acc: 0.9802\n",
      "Epoch [12/30] Train Loss: 0.0771, Train Acc: 0.9831, Val Loss: 0.0879, Val Acc: 0.9802\n",
      "Epoch [13/30] Train Loss: 0.0772, Train Acc: 0.9831, Val Loss: 0.0880, Val Acc: 0.9802\n",
      "Epoch [14/30] Train Loss: 0.0768, Train Acc: 0.9831, Val Loss: 0.0873, Val Acc: 0.9801\n",
      "Epoch [15/30] Train Loss: 0.0764, Train Acc: 0.9831, Val Loss: 0.0877, Val Acc: 0.9802\n",
      "Epoch [16/30] Train Loss: 0.0761, Train Acc: 0.9831, Val Loss: 0.0872, Val Acc: 0.9802\n",
      "Epoch [17/30] Train Loss: 0.0761, Train Acc: 0.9830, Val Loss: 0.0884, Val Acc: 0.9790\n",
      "Epoch [18/30] Train Loss: 0.0767, Train Acc: 0.9830, Val Loss: 0.0878, Val Acc: 0.9802\n",
      "Epoch [19/30] Train Loss: 0.0764, Train Acc: 0.9831, Val Loss: 0.0880, Val Acc: 0.9802\n",
      "Epoch [20/30] Train Loss: 0.0758, Train Acc: 0.9831, Val Loss: 0.0870, Val Acc: 0.9802\n",
      "Epoch [21/30] Train Loss: 0.0756, Train Acc: 0.9831, Val Loss: 0.0879, Val Acc: 0.9802\n",
      "Epoch [22/30] Train Loss: 0.0752, Train Acc: 0.9831, Val Loss: 0.0875, Val Acc: 0.9802\n",
      "Epoch [23/30] Train Loss: 0.0753, Train Acc: 0.9831, Val Loss: 0.0871, Val Acc: 0.9802\n",
      "Epoch [24/30] Train Loss: 0.0751, Train Acc: 0.9831, Val Loss: 0.0906, Val Acc: 0.9802\n",
      "Epoch [25/30] Train Loss: 0.0749, Train Acc: 0.9831, Val Loss: 0.0887, Val Acc: 0.9802\n",
      "Epoch [26/30] Train Loss: 0.0746, Train Acc: 0.9831, Val Loss: 0.0884, Val Acc: 0.9799\n",
      "Epoch [27/30] Train Loss: 0.0743, Train Acc: 0.9831, Val Loss: 0.0878, Val Acc: 0.9798\n",
      "Epoch [28/30] Train Loss: 0.0742, Train Acc: 0.9831, Val Loss: 0.0882, Val Acc: 0.9800\n",
      "Epoch [29/30] Train Loss: 0.0744, Train Acc: 0.9831, Val Loss: 0.0891, Val Acc: 0.9802\n",
      "Epoch [30/30] Train Loss: 0.0737, Train Acc: 0.9831, Val Loss: 0.0887, Val Acc: 0.9801\n"
     ]
    }
   ],
   "source": [
    "train_model(model, train_loader, val_loader, num_epochs=30, lr=1e-3, device=device)"
   ]
  },
  {
   "cell_type": "code",
   "execution_count": 74,
   "id": "f03d331f-dbe2-435a-9bb8-795def78af4f",
   "metadata": {},
   "outputs": [
    {
     "data": {
      "image/png": "[encoded data removed]",
      "text/plain": [
       "<Figure size 640x480 with 1 Axes>"
      ]
     },
     "metadata": {},
     "output_type": "display_data"
    },
    {
     "name": "stdout",
     "output_type": "stream",
     "text": [
      "Test AUC: 0.752\n",
      "Test AUC: 0.7521308862769939\n"
     ]
    }
   ],
   "source": [
    "model.to(device)\n",
    "test_auc, labels, probs = evaluate_on_test_set(model, test_loader, device=device)\n",
    "print(\"Test AUC:\", test_auc)"
   ]
  },
  {
   "cell_type": "code",
   "execution_count": 72,
   "id": "82f61964-8f67-4d9d-b996-67e34a73fc59",
   "metadata": {},
   "outputs": [
    {
     "data": {
      "text/plain": [
       "np.float64(0.7521308862769939)"
      ]
     },
     "execution_count": 72,
     "metadata": {},
     "output_type": "execute_result"
    }
   ],
   "source": [
    "test_auc"
   ]
  },
  {
   "cell_type": "code",
   "execution_count": 71,
   "id": "32ea5bfe-5954-4c23-ab89-5341a7b9e2c3",
   "metadata": {},
   "outputs": [],
   "source": [
    "torch.save(model, f'models/{test_auc}.pth')"
   ]
  },
  {
   "cell_type": "markdown",
   "id": "fa8ceeab-6ad4-4e10-839a-a5a199c8e5f5",
   "metadata": {},
   "source": [
    "# Tune?"
   ]
  },
  {
   "cell_type": "markdown",
   "id": "7feaff31-ce6e-42f5-9417-7954a59fc921",
   "metadata": {},
   "source": [
    "# Explainability"
   ]
  },
  {
   "cell_type": "code",
   "execution_count": 75,
   "id": "f4c450bd-a406-4a21-94a7-6464f06191af",
   "metadata": {},
   "outputs": [],
   "source": [
    "df = pd.DataFrame({'labels': labels, 'probabilities': probs})"
   ]
  },
  {
   "cell_type": "code",
   "execution_count": 77,
   "id": "4b0989b3-cf0a-43ac-87c4-530b111d7038",
   "metadata": {},
   "outputs": [
    {
     "data": {
      "text/html": [
       "<div>\n",
       "<style scoped>\n",
       "    .dataframe tbody tr th:only-of-type {\n",
       "        vertical-align: middle;\n",
       "    }\n",
       "\n",
       "    .dataframe tbody tr th {\n",
       "        vertical-align: top;\n",
       "    }\n",
       "\n",
       "    .dataframe thead th {\n",
       "        text-align: right;\n",
       "    }\n",
       "</style>\n",
       "<table border=\"1\" class=\"dataframe\">\n",
       "  <thead>\n",
       "    <tr style=\"text-align: right;\">\n",
       "      <th></th>\n",
       "      <th>exog</th>\n",
       "      <th>endog</th>\n",
       "    </tr>\n",
       "  </thead>\n",
       "  <tbody>\n",
       "    <tr>\n",
       "      <th>141675</th>\n",
       "      <td>[1, 0, 7, 0, 13, 27, 26, 9, 8, 7, 33, 28]</td>\n",
       "      <td>0</td>\n",
       "    </tr>\n",
       "    <tr>\n",
       "      <th>36486</th>\n",
       "      <td>[1, 0, 5, 0, 3, 29, 33, 8, 3, 21]</td>\n",
       "      <td>0</td>\n",
       "    </tr>\n",
       "    <tr>\n",
       "      <th>156052</th>\n",
       "      <td>[1, 0, 7, 0, 3, 18, 28, 2, 31, 7, 30, 19]</td>\n",
       "      <td>0</td>\n",
       "    </tr>\n",
       "    <tr>\n",
       "      <th>158657</th>\n",
       "      <td>[0, 1, 3, 0, 9, 26, 8, 7]</td>\n",
       "      <td>0</td>\n",
       "    </tr>\n",
       "    <tr>\n",
       "      <th>209151</th>\n",
       "      <td>[1, 0, 5, 0, 30, 18, 9, 9, 31, 27]</td>\n",
       "      <td>0</td>\n",
       "    </tr>\n",
       "    <tr>\n",
       "      <th>...</th>\n",
       "      <td>...</td>\n",
       "      <td>...</td>\n",
       "    </tr>\n",
       "    <tr>\n",
       "      <th>181796</th>\n",
       "      <td>[1, 1, 10, 0, 18, 9, 26, 24, 26, 1, 33, 4, 6, ...</td>\n",
       "      <td>0</td>\n",
       "    </tr>\n",
       "    <tr>\n",
       "      <th>123005</th>\n",
       "      <td>[0, 0, 12, 0, 18, 28, 28, 29, 33, 30, 32, 1, 2...</td>\n",
       "      <td>0</td>\n",
       "    </tr>\n",
       "    <tr>\n",
       "      <th>27216</th>\n",
       "      <td>[2, 0, 16, 0, 9, 30, 32, 32, 31, 2, 29, 27, 19...</td>\n",
       "      <td>0</td>\n",
       "    </tr>\n",
       "    <tr>\n",
       "      <th>76288</th>\n",
       "      <td>[1, 1, 6, 0, 5, 31, 26, 18, 9, 9, 23]</td>\n",
       "      <td>0</td>\n",
       "    </tr>\n",
       "    <tr>\n",
       "      <th>170356</th>\n",
       "      <td>[1, 0, 7, 0, 31, 0, 27, 7, 21, 24, 3, 1]</td>\n",
       "      <td>0</td>\n",
       "    </tr>\n",
       "  </tbody>\n",
       "</table>\n",
       "<p>42110 rows × 2 columns</p>\n",
       "</div>"
      ],
      "text/plain": [
       "                                                     exog  endog\n",
       "141675          [1, 0, 7, 0, 13, 27, 26, 9, 8, 7, 33, 28]      0\n",
       "36486                   [1, 0, 5, 0, 3, 29, 33, 8, 3, 21]      0\n",
       "156052          [1, 0, 7, 0, 3, 18, 28, 2, 31, 7, 30, 19]      0\n",
       "158657                          [0, 1, 3, 0, 9, 26, 8, 7]      0\n",
       "209151                 [1, 0, 5, 0, 30, 18, 9, 9, 31, 27]      0\n",
       "...                                                   ...    ...\n",
       "181796  [1, 1, 10, 0, 18, 9, 26, 24, 26, 1, 33, 4, 6, ...      0\n",
       "123005  [0, 0, 12, 0, 18, 28, 28, 29, 33, 30, 32, 1, 2...      0\n",
       "27216   [2, 0, 16, 0, 9, 30, 32, 32, 31, 2, 29, 27, 19...      0\n",
       "76288               [1, 1, 6, 0, 5, 31, 26, 18, 9, 9, 23]      0\n",
       "170356           [1, 0, 7, 0, 31, 0, 27, 7, 21, 24, 3, 1]      0\n",
       "\n",
       "[42110 rows x 2 columns]"
      ]
     },
     "execution_count": 77,
     "metadata": {},
     "output_type": "execute_result"
    }
   ],
   "source": [
    "test"
   ]
  },
  {
   "cell_type": "code",
   "execution_count": 81,
   "id": "071703ca-5014-4ac0-b1ca-f72f60b8c844",
   "metadata": {},
   "outputs": [],
   "source": [
    "test_res = df.merge(test.reset_index(), left_index=True, right_index=True)"
   ]
  },
  {
   "cell_type": "code",
   "execution_count": 91,
   "id": "524039ca-112d-4fad-827c-91a506a6ed89",
   "metadata": {},
   "outputs": [],
   "source": [
    "test_res.sort_values('probabilities', ascending=False)[['exog','endog','probabilities']].to_csv('sorted_hands.csv')"
   ]
  },
  {
   "cell_type": "markdown",
   "id": "0e5dbca8-7f8c-4ae3-930c-692ff3ce4069",
   "metadata": {},
   "source": [
    "## Integrated Gradients"
   ]
  },
  {
   "cell_type": "code",
   "execution_count": 117,
   "id": "532a5e2c-62c5-4c54-8ad5-3f2f3e35bf4b",
   "metadata": {},
   "outputs": [
    {
     "data": {
      "text/html": [
       "<div>\n",
       "<style scoped>\n",
       "    .dataframe tbody tr th:only-of-type {\n",
       "        vertical-align: middle;\n",
       "    }\n",
       "\n",
       "    .dataframe tbody tr th {\n",
       "        vertical-align: top;\n",
       "    }\n",
       "\n",
       "    .dataframe thead th {\n",
       "        text-align: right;\n",
       "    }\n",
       "</style>\n",
       "<table border=\"1\" class=\"dataframe\">\n",
       "  <thead>\n",
       "    <tr style=\"text-align: right;\">\n",
       "      <th></th>\n",
       "      <th>0</th>\n",
       "      <th>1</th>\n",
       "    </tr>\n",
       "  </thead>\n",
       "  <tbody>\n",
       "    <tr>\n",
       "      <th>0</th>\n",
       "      <td>1</td>\n",
       "      <td>0.686886</td>\n",
       "    </tr>\n",
       "    <tr>\n",
       "      <th>1</th>\n",
       "      <td>0</td>\n",
       "      <td>0.000000</td>\n",
       "    </tr>\n",
       "    <tr>\n",
       "      <th>2</th>\n",
       "      <td>7</td>\n",
       "      <td>0.033814</td>\n",
       "    </tr>\n",
       "    <tr>\n",
       "      <th>3</th>\n",
       "      <td>0</td>\n",
       "      <td>0.000000</td>\n",
       "    </tr>\n",
       "    <tr>\n",
       "      <th>4</th>\n",
       "      <td>13</td>\n",
       "      <td>0.472491</td>\n",
       "    </tr>\n",
       "    <tr>\n",
       "      <th>5</th>\n",
       "      <td>27</td>\n",
       "      <td>-0.563150</td>\n",
       "    </tr>\n",
       "    <tr>\n",
       "      <th>6</th>\n",
       "      <td>26</td>\n",
       "      <td>-0.029665</td>\n",
       "    </tr>\n",
       "    <tr>\n",
       "      <th>7</th>\n",
       "      <td>9</td>\n",
       "      <td>-0.198221</td>\n",
       "    </tr>\n",
       "    <tr>\n",
       "      <th>8</th>\n",
       "      <td>8</td>\n",
       "      <td>-0.333449</td>\n",
       "    </tr>\n",
       "    <tr>\n",
       "      <th>9</th>\n",
       "      <td>7</td>\n",
       "      <td>1.612909</td>\n",
       "    </tr>\n",
       "    <tr>\n",
       "      <th>10</th>\n",
       "      <td>33</td>\n",
       "      <td>0.043129</td>\n",
       "    </tr>\n",
       "    <tr>\n",
       "      <th>11</th>\n",
       "      <td>28</td>\n",
       "      <td>-0.497101</td>\n",
       "    </tr>\n",
       "    <tr>\n",
       "      <th>12</th>\n",
       "      <td>34</td>\n",
       "      <td>0.115432</td>\n",
       "    </tr>\n",
       "    <tr>\n",
       "      <th>13</th>\n",
       "      <td>34</td>\n",
       "      <td>-0.338930</td>\n",
       "    </tr>\n",
       "    <tr>\n",
       "      <th>14</th>\n",
       "      <td>34</td>\n",
       "      <td>-0.362583</td>\n",
       "    </tr>\n",
       "    <tr>\n",
       "      <th>15</th>\n",
       "      <td>34</td>\n",
       "      <td>0.095314</td>\n",
       "    </tr>\n",
       "    <tr>\n",
       "      <th>16</th>\n",
       "      <td>34</td>\n",
       "      <td>-0.204954</td>\n",
       "    </tr>\n",
       "    <tr>\n",
       "      <th>17</th>\n",
       "      <td>34</td>\n",
       "      <td>-1.347806</td>\n",
       "    </tr>\n",
       "    <tr>\n",
       "      <th>18</th>\n",
       "      <td>34</td>\n",
       "      <td>-0.340534</td>\n",
       "    </tr>\n",
       "    <tr>\n",
       "      <th>19</th>\n",
       "      <td>34</td>\n",
       "      <td>-0.331184</td>\n",
       "    </tr>\n",
       "    <tr>\n",
       "      <th>20</th>\n",
       "      <td>34</td>\n",
       "      <td>-0.947467</td>\n",
       "    </tr>\n",
       "    <tr>\n",
       "      <th>21</th>\n",
       "      <td>34</td>\n",
       "      <td>-0.255050</td>\n",
       "    </tr>\n",
       "  </tbody>\n",
       "</table>\n",
       "</div>"
      ],
      "text/plain": [
       "     0         1\n",
       "0    1  0.686886\n",
       "1    0  0.000000\n",
       "2    7  0.033814\n",
       "3    0  0.000000\n",
       "4   13  0.472491\n",
       "5   27 -0.563150\n",
       "6   26 -0.029665\n",
       "7    9 -0.198221\n",
       "8    8 -0.333449\n",
       "9    7  1.612909\n",
       "10  33  0.043129\n",
       "11  28 -0.497101\n",
       "12  34  0.115432\n",
       "13  34 -0.338930\n",
       "14  34 -0.362583\n",
       "15  34  0.095314\n",
       "16  34 -0.204954\n",
       "17  34 -1.347806\n",
       "18  34 -0.340534\n",
       "19  34 -0.331184\n",
       "20  34 -0.947467\n",
       "21  34 -0.255050"
      ]
     },
     "metadata": {},
     "output_type": "display_data"
    }
   ],
   "source": [
    "model.eval()\n",
    "model.to(device)\n",
    "\n",
    "lig = LayerIntegratedGradients(model.forward, model.embedding)\n",
    "\n",
    "for inputs, labels in test_loader:\n",
    "    # Make sure inputs are integer token IDs\n",
    "    inputs = inputs.to(device, dtype=torch.long)\n",
    "    labels = labels.to(device)\n",
    "\n",
    "    # Create a baseline of the same shape as 'inputs' but with a special ID\n",
    "    # For instance, if 0 is a valid \"pad\" or \"neutral\" token in your vocabulary:\n",
    "    baseline_tokens = torch.zeros_like(inputs)  \n",
    "    # shape: [batch_size, seq_len], dtype: long\n",
    "\n",
    "    # Now do the attribution. The shape & dtype of `baseline_tokens` matches `inputs`.\n",
    "    # Captum will call model.embedding() on each interpolation step from these \n",
    "    # baseline token IDs to the real token IDs. \n",
    "    attributions = lig.attribute(\n",
    "        inputs=inputs,               # shape [batch_size, seq_len], long\n",
    "        baselines=baseline_tokens,   # same shape, also long\n",
    "        n_steps=50,                  # number of interpolation steps\n",
    "        target=None                  # single-logit output => None or 0\n",
    "    )\n",
    "    # attributions will have shape [batch_size, seq_len, embed_dim]\n",
    "\n",
    "    # Move attributions to CPU to analyze\n",
    "    attributions = attributions.detach().cpu()\n",
    "    # Optionally sum across embedding dimensions for a single value per token\n",
    "    attributions_per_token = attributions.sum(dim=-1).numpy()  # shape [batch_size, seq_len]\n",
    "\n",
    "    # Example: examine the first item\n",
    "    idx = 0\n",
    "    token_ids = inputs[idx].detach().cpu().numpy()  # shape [seq_len]\n",
    "    token_scores = attributions_per_token[idx]      # shape [seq_len]\n",
    "\n",
    "    # Zip and sort by absolute score\n",
    "    pairs = list(zip(token_ids, token_scores))\n",
    "    display(pd.DataFrame(pairs))\n",
    "\n",
    "    break  # just do one batch for demonstration"
   ]
  },
  {
   "cell_type": "code",
   "execution_count": 121,
   "id": "5c24db37-520d-488b-9191-cb163babefcb",
   "metadata": {},
   "outputs": [
    {
     "data": {
      "text/html": [
       "<div>\n",
       "<style scoped>\n",
       "    .dataframe tbody tr th:only-of-type {\n",
       "        vertical-align: middle;\n",
       "    }\n",
       "\n",
       "    .dataframe tbody tr th {\n",
       "        vertical-align: top;\n",
       "    }\n",
       "\n",
       "    .dataframe thead th {\n",
       "        text-align: right;\n",
       "    }\n",
       "</style>\n",
       "<table border=\"1\" class=\"dataframe\">\n",
       "  <thead>\n",
       "    <tr style=\"text-align: right;\">\n",
       "      <th></th>\n",
       "      <th>0</th>\n",
       "      <th>1</th>\n",
       "    </tr>\n",
       "  </thead>\n",
       "  <tbody>\n",
       "    <tr>\n",
       "      <th>0</th>\n",
       "      <td>1</td>\n",
       "      <td>0.346319</td>\n",
       "    </tr>\n",
       "    <tr>\n",
       "      <th>1</th>\n",
       "      <td>0</td>\n",
       "      <td>0.000000</td>\n",
       "    </tr>\n",
       "    <tr>\n",
       "      <th>2</th>\n",
       "      <td>5</td>\n",
       "      <td>-0.213944</td>\n",
       "    </tr>\n",
       "    <tr>\n",
       "      <th>3</th>\n",
       "      <td>0</td>\n",
       "      <td>0.000000</td>\n",
       "    </tr>\n",
       "    <tr>\n",
       "      <th>4</th>\n",
       "      <td>30</td>\n",
       "      <td>-0.084801</td>\n",
       "    </tr>\n",
       "    <tr>\n",
       "      <th>5</th>\n",
       "      <td>18</td>\n",
       "      <td>0.031815</td>\n",
       "    </tr>\n",
       "    <tr>\n",
       "      <th>6</th>\n",
       "      <td>9</td>\n",
       "      <td>-0.300950</td>\n",
       "    </tr>\n",
       "    <tr>\n",
       "      <th>7</th>\n",
       "      <td>9</td>\n",
       "      <td>-0.179466</td>\n",
       "    </tr>\n",
       "    <tr>\n",
       "      <th>8</th>\n",
       "      <td>31</td>\n",
       "      <td>-0.270498</td>\n",
       "    </tr>\n",
       "    <tr>\n",
       "      <th>9</th>\n",
       "      <td>27</td>\n",
       "      <td>-0.125803</td>\n",
       "    </tr>\n",
       "    <tr>\n",
       "      <th>10</th>\n",
       "      <td>34</td>\n",
       "      <td>0.071582</td>\n",
       "    </tr>\n",
       "    <tr>\n",
       "      <th>11</th>\n",
       "      <td>34</td>\n",
       "      <td>-0.025503</td>\n",
       "    </tr>\n",
       "    <tr>\n",
       "      <th>12</th>\n",
       "      <td>34</td>\n",
       "      <td>0.061695</td>\n",
       "    </tr>\n",
       "    <tr>\n",
       "      <th>13</th>\n",
       "      <td>34</td>\n",
       "      <td>-0.293537</td>\n",
       "    </tr>\n",
       "    <tr>\n",
       "      <th>14</th>\n",
       "      <td>34</td>\n",
       "      <td>-0.813520</td>\n",
       "    </tr>\n",
       "    <tr>\n",
       "      <th>15</th>\n",
       "      <td>34</td>\n",
       "      <td>0.077038</td>\n",
       "    </tr>\n",
       "    <tr>\n",
       "      <th>16</th>\n",
       "      <td>34</td>\n",
       "      <td>-0.210876</td>\n",
       "    </tr>\n",
       "    <tr>\n",
       "      <th>17</th>\n",
       "      <td>34</td>\n",
       "      <td>-1.003181</td>\n",
       "    </tr>\n",
       "    <tr>\n",
       "      <th>18</th>\n",
       "      <td>34</td>\n",
       "      <td>-0.296927</td>\n",
       "    </tr>\n",
       "    <tr>\n",
       "      <th>19</th>\n",
       "      <td>34</td>\n",
       "      <td>-0.416161</td>\n",
       "    </tr>\n",
       "    <tr>\n",
       "      <th>20</th>\n",
       "      <td>34</td>\n",
       "      <td>-0.611162</td>\n",
       "    </tr>\n",
       "    <tr>\n",
       "      <th>21</th>\n",
       "      <td>34</td>\n",
       "      <td>-0.243425</td>\n",
       "    </tr>\n",
       "  </tbody>\n",
       "</table>\n",
       "</div>"
      ],
      "text/plain": [
       "     0         1\n",
       "0    1  0.346319\n",
       "1    0  0.000000\n",
       "2    5 -0.213944\n",
       "3    0  0.000000\n",
       "4   30 -0.084801\n",
       "5   18  0.031815\n",
       "6    9 -0.300950\n",
       "7    9 -0.179466\n",
       "8   31 -0.270498\n",
       "9   27 -0.125803\n",
       "10  34  0.071582\n",
       "11  34 -0.025503\n",
       "12  34  0.061695\n",
       "13  34 -0.293537\n",
       "14  34 -0.813520\n",
       "15  34  0.077038\n",
       "16  34 -0.210876\n",
       "17  34 -1.003181\n",
       "18  34 -0.296927\n",
       "19  34 -0.416161\n",
       "20  34 -0.611162\n",
       "21  34 -0.243425"
      ]
     },
     "metadata": {},
     "output_type": "display_data"
    }
   ],
   "source": [
    "idx = 4\n",
    "token_ids = inputs[idx].detach().cpu().numpy()  # shape [seq_len]\n",
    "token_scores = attributions_per_token[idx]      # shape [seq_len]\n",
    "# Zip and sort by absolute score\n",
    "pairs = list(zip(token_ids, token_scores))\n",
    "display(pd.DataFrame(pairs))"
   ]
  },
  {
   "cell_type": "code",
   "execution_count": 125,
   "id": "7cef579b-9001-4694-a221-4ed16e68391e",
   "metadata": {},
   "outputs": [
    {
     "data": {
      "text/plain": [
       "array([[ 0.68688627,  0.        ,  0.03381367, ..., -0.33118418,\n",
       "        -0.94746743, -0.25505017],\n",
       "       [-0.04315179,  0.        , -0.07344268, ..., -0.24468354,\n",
       "        -0.26974552, -0.13630669],\n",
       "       [ 0.35888357,  0.        ,  0.04341041, ..., -0.42681857,\n",
       "        -0.56727663, -0.36257071],\n",
       "       ...,\n",
       "       [ 0.        ,  0.        ,  0.16753596, ..., -0.3601254 ,\n",
       "        -0.27239071, -0.2039411 ],\n",
       "       [ 0.21222255, -0.02096207, -0.05771243, ..., -0.38903683,\n",
       "        -0.29965485, -0.13832357],\n",
       "       [ 0.        ,  0.        , -0.00495579, ..., -0.23074424,\n",
       "        -0.17001069, -0.12991426]], shape=(512, 22))"
      ]
     },
     "execution_count": 125,
     "metadata": {},
     "output_type": "execute_result"
    }
   ],
   "source": [
    "attributions_per_token"
   ]
  },
  {
   "cell_type": "code",
   "execution_count": 114,
   "id": "d4d0811b-5a26-445b-aa33-3dd97dbd3603",
   "metadata": {},
   "outputs": [
    {
     "data": {
      "text/plain": [
       "42110"
      ]
     },
     "execution_count": 114,
     "metadata": {},
     "output_type": "execute_result"
    }
   ],
   "source": [
    "len(test_dataset)"
   ]
  },
  {
   "cell_type": "code",
   "execution_count": null,
   "id": "a10cdec0-19dc-46ee-9549-50b28a58e0ca",
   "metadata": {},
   "outputs": [],
   "source": []
  }
 ],
 "metadata": {
  "kernelspec": {
   "display_name": "dev_three_sandbox",
   "language": "python",
   "name": "dev_three_sandbox"
  },
  "language_info": {
   "codemirror_mode": {
    "name": "ipython",
    "version": 3
   },
   "file_extension": ".py",
   "mimetype": "text/x-python",
   "name": "python",
   "nbconvert_exporter": "python",
   "pygments_lexer": "ipython3",
   "version": "3.10.12"
  }
 },
 "nbformat": 4,
 "nbformat_minor": 5
}
