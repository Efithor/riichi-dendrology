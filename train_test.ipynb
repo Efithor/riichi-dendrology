{
 "cells": [
  {
   "cell_type": "code",
   "execution_count": null,
   "id": "8df6eaef-b9b1-40e9-8f8f-d460c0e117c6",
   "metadata": {},
   "outputs": [],
   "source": []
  },
  {
   "cell_type": "code",
   "execution_count": 58,
   "id": "b56db20d-d4af-4195-8536-c0d7111dda93",
   "metadata": {},
   "outputs": [],
   "source": [
    "import torch\n",
    "import torch.nn as nn\n",
    "from torch.utils.data import Dataset, DataLoader\n",
    "import numpy as np\n",
    "import pandas as pd\n",
    "from sklearn.model_selection import train_test_split\n",
    "import ast\n",
    "import matplotlib.pyplot as plt\n",
    "from sklearn.metrics import roc_curve, auc"
   ]
  },
  {
   "cell_type": "code",
   "execution_count": 2,
   "id": "62b8d57e-8d7a-4779-be87-9de0c19d5324",
   "metadata": {},
   "outputs": [],
   "source": [
    "class SequenceDataset(Dataset):\n",
    "    def __init__(self, df, exog_col='exog', endog_col='endog'):\n",
    "        \"\"\"\n",
    "        df: a pandas DataFrame with two columns:\n",
    "            - exog_col: list of integers (sequence)\n",
    "            - endog_col: binary label (0 or 1)\n",
    "        \"\"\"\n",
    "        self.sequences = df[exog_col].tolist()\n",
    "        self.labels = df[endog_col].tolist()\n",
    "\n",
    "    def __len__(self):\n",
    "        return len(self.sequences)\n",
    "\n",
    "    def __getitem__(self, idx):\n",
    "        return self.sequences[idx], self.labels[idx]"
   ]
  },
  {
   "cell_type": "code",
   "execution_count": 3,
   "id": "7a6b2843-ebca-4a94-8b33-e73307c33c0e",
   "metadata": {},
   "outputs": [],
   "source": [
    "def collate_fn(batch):\n",
    "    \"\"\"\n",
    "    Pads sequences in a batch to the same length.\n",
    "    \"\"\"\n",
    "    # Separate sequences and labels\n",
    "    sequences, labels = zip(*batch)\n",
    "\n",
    "    # Find max length within this batch\n",
    "    max_length = max(len(seq) for seq in sequences)\n",
    "\n",
    "    # Pad sequences with 0 (or a special PAD token id if you have one)\n",
    "    padded_sequences = []\n",
    "    for seq in sequences:\n",
    "        padded = seq + [34]*(max_length - len(seq))\n",
    "        padded_sequences.append(padded)\n",
    "\n",
    "    # Convert to tensors\n",
    "    padded_sequences = torch.tensor(padded_sequences, dtype=torch.long)\n",
    "    labels = torch.tensor(labels, dtype=torch.float)\n",
    "\n",
    "    return padded_sequences, labels"
   ]
  },
  {
   "cell_type": "code",
   "execution_count": 4,
   "id": "535d7fe2-de9b-4d4e-b8a0-612bf9961cc3",
   "metadata": {},
   "outputs": [],
   "source": [
    "class TransformerBinaryClassifier(nn.Module):\n",
    "    def __init__(\n",
    "        self,\n",
    "        vocab_size,\n",
    "        embed_dim=64,\n",
    "        num_heads=2,\n",
    "        num_layers=2,\n",
    "        ff_dim=128,\n",
    "        dropout=0.1\n",
    "    ):\n",
    "        \"\"\"\n",
    "        vocab_size: size of the vocabulary (max integer token + 1).\n",
    "        embed_dim: embedding dimension.\n",
    "        num_heads: number of attention heads in the MultiheadAttention.\n",
    "        num_layers: number of transformer encoder layers to stack.\n",
    "        ff_dim: hidden dim in the feed-forward network of each encoder layer.\n",
    "        dropout: dropout probability.\n",
    "        \"\"\"\n",
    "        super().__init__()\n",
    "\n",
    "        self.embedding = nn.Embedding(vocab_size, embed_dim)\n",
    "\n",
    "        # Positional encoding (optional). If sequences can be very long,\n",
    "        # consider a standard sinusoidal positional encoding approach.\n",
    "        # Here we just show a simple learned positional embedding for demonstration:\n",
    "        self.pos_embedding = nn.Embedding(5000, embed_dim)  # 5000 is arbitrary\n",
    "\n",
    "        encoder_layer = nn.TransformerEncoderLayer(\n",
    "            d_model=embed_dim,\n",
    "            nhead=num_heads,\n",
    "            dim_feedforward=ff_dim,\n",
    "            dropout=dropout,\n",
    "            batch_first=True  # ensures shape is (batch, seq, embed_dim)\n",
    "        )\n",
    "        self.transformer_encoder = nn.TransformerEncoder(\n",
    "            encoder_layer,\n",
    "            num_layers=num_layers\n",
    "        )\n",
    "\n",
    "        self.classifier = nn.Linear(embed_dim, 1)  # single output for binary\n",
    "\n",
    "    def forward(self, x):\n",
    "        \"\"\"\n",
    "        x: [batch_size, seq_len] of token IDs\n",
    "        \"\"\"\n",
    "        batch_size, seq_len = x.shape\n",
    "\n",
    "        # Token embeddings\n",
    "        token_embeddings = self.embedding(x)  # [batch_size, seq_len, embed_dim]\n",
    "\n",
    "        # Positional embeddings (very simple version)\n",
    "        positions = torch.arange(0, seq_len, device=x.device).unsqueeze(0)  # [1, seq_len]\n",
    "        pos_embeddings = self.pos_embedding(positions)  # [1, seq_len, embed_dim]\n",
    "\n",
    "        # Combine token and positional embeddings\n",
    "        embeddings = token_embeddings + pos_embeddings\n",
    "\n",
    "        # Transformer Encoder\n",
    "        encoder_output = self.transformer_encoder(embeddings)  \n",
    "        # [batch_size, seq_len, embed_dim]\n",
    "\n",
    "        # For classification, we often just take the output at the last token\n",
    "        # or the pooled [CLS] representation if we have one. Another approach:\n",
    "        # do a mean or max pooling across seq_len.\n",
    "        # We'll do mean pooling across the sequence dimension:\n",
    "        pooled_output = encoder_output.mean(dim=1)  # [batch_size, embed_dim]\n",
    "\n",
    "        # Final linear layer -> raw logits\n",
    "        logits = self.classifier(pooled_output).squeeze(-1)  # [batch_size]\n",
    "\n",
    "        return logits"
   ]
  },
  {
   "cell_type": "code",
   "execution_count": 5,
   "id": "7c9a192b-b8cb-43b1-9484-812da96e31d5",
   "metadata": {},
   "outputs": [],
   "source": [
    "def train_model(model, train_loader, val_loader, num_epochs=5, lr=1e-3, device='cuda'):\n",
    "    criterion = nn.BCEWithLogitsLoss()\n",
    "    optimizer = torch.optim.Adam(model.parameters(), lr=lr)\n",
    "\n",
    "    model.to(device)\n",
    "\n",
    "    for epoch in range(num_epochs):\n",
    "        model.train()\n",
    "        total_loss = 0\n",
    "        total_acc = 0\n",
    "        total_count = 0\n",
    "\n",
    "        for sequences, labels in train_loader:\n",
    "            sequences = sequences.to(device)\n",
    "            labels = labels.to(device)\n",
    "\n",
    "            optimizer.zero_grad()\n",
    "\n",
    "            logits = model(sequences)\n",
    "            loss = criterion(logits, labels)\n",
    "            loss.backward()\n",
    "            optimizer.step()\n",
    "\n",
    "            # Compute training accuracy\n",
    "            preds = torch.sigmoid(logits)\n",
    "            preds_class = (preds >= 0.5).float()\n",
    "            acc = (preds_class == labels).float().sum()\n",
    "\n",
    "            total_loss += loss.item() * sequences.size(0)\n",
    "            total_acc += acc.item()\n",
    "            total_count += sequences.size(0)\n",
    "\n",
    "        avg_train_loss = total_loss / total_count\n",
    "        avg_train_acc = total_acc / total_count\n",
    "\n",
    "        # Validation\n",
    "        val_loss, val_acc = evaluate_model(model, val_loader, device, criterion)\n",
    "\n",
    "        print(\n",
    "            f\"Epoch [{epoch+1}/{num_epochs}] \"\n",
    "            f\"Train Loss: {avg_train_loss:.4f}, Train Acc: {avg_train_acc:.4f}, \"\n",
    "            f\"Val Loss: {val_loss:.4f}, Val Acc: {val_acc:.4f}\"\n",
    "        )"
   ]
  },
  {
   "cell_type": "code",
   "execution_count": 6,
   "id": "a6a4e1d0-a49d-459b-aac7-719b58016959",
   "metadata": {},
   "outputs": [],
   "source": [
    "def evaluate_model(model, data_loader, device, criterion=None):\n",
    "    model.eval()\n",
    "    total_loss = 0\n",
    "    total_acc = 0\n",
    "    total_count = 0\n",
    "\n",
    "    with torch.no_grad():\n",
    "        for sequences, labels in data_loader:\n",
    "            sequences = sequences.to(device)\n",
    "            labels = labels.to(device)\n",
    "\n",
    "            logits = model(sequences)\n",
    "            if criterion:\n",
    "                loss = criterion(logits, labels)\n",
    "                total_loss += loss.item() * sequences.size(0)\n",
    "\n",
    "            preds = torch.sigmoid(logits)\n",
    "            preds_class = (preds >= 0.5).float()\n",
    "            acc = (preds_class == labels).float().sum()\n",
    "\n",
    "            total_acc += acc.item()\n",
    "            total_count += sequences.size(0)\n",
    "\n",
    "    avg_loss = total_loss / total_count if criterion else 0\n",
    "    avg_acc = total_acc / total_count\n",
    "\n",
    "    return avg_loss, avg_acc"
   ]
  },
  {
   "cell_type": "code",
   "execution_count": 59,
   "id": "2f5aaf43-90aa-4d8e-83ec-d1a01f3a530f",
   "metadata": {},
   "outputs": [],
   "source": [
    "def evaluate_on_test_set(model, test_loader, device='cuda'):\n",
    "    \"\"\"\n",
    "    Generates predictions on the test set, then plots the ROC curve and prints the AUC.\n",
    "    \"\"\"\n",
    "    model.eval()\n",
    "    \n",
    "    all_labels = []\n",
    "    all_probs = []\n",
    "\n",
    "    with torch.no_grad():\n",
    "        for sequences, labels in test_loader:\n",
    "            sequences = sequences.to(device)\n",
    "            labels = labels.to(device)\n",
    "\n",
    "            # Forward pass\n",
    "            logits = model(sequences)\n",
    "            # Convert logits -> probabilities in [0, 1]\n",
    "            probs = torch.sigmoid(logits)\n",
    "\n",
    "            # Collect results for ROC\n",
    "            all_labels.extend(labels.cpu().numpy())\n",
    "            all_probs.extend(probs.cpu().numpy())\n",
    "\n",
    "    # Compute ROC curve\n",
    "    fpr, tpr, thresholds = roc_curve(all_labels, all_probs)\n",
    "    roc_auc = auc(fpr, tpr)\n",
    "\n",
    "    # Plot ROC curve\n",
    "    plt.figure()\n",
    "    plt.plot(fpr, tpr, label='ROC curve (area = {:.3f})'.format(roc_auc))\n",
    "    plt.plot([0, 1], [0, 1], linestyle='--')  # Diagonal for reference\n",
    "    plt.xlabel('False Positive Rate')\n",
    "    plt.ylabel('True Positive Rate')\n",
    "    plt.title('Test Set ROC Curve')\n",
    "    plt.legend(loc='lower right')\n",
    "    plt.show()\n",
    "\n",
    "    print(f\"Test AUC: {roc_auc:.3f}\")\n",
    "\n",
    "    return roc_auc"
   ]
  },
  {
   "cell_type": "markdown",
   "id": "94a9eb3f-5bb0-47e0-bdfd-2cca4075f1e3",
   "metadata": {},
   "source": [
    "# Load and split"
   ]
  },
  {
   "cell_type": "code",
   "execution_count": 26,
   "id": "ece70f78-612c-4d6a-bdd0-5e8102aecd86",
   "metadata": {},
   "outputs": [],
   "source": [
    "load = pd.read_csv('full_hands_df.csv')\n",
    "load['seq'] = load['seq'].apply(ast.literal_eval)"
   ]
  },
  {
   "cell_type": "code",
   "execution_count": 27,
   "id": "e15be83a-ad9d-445c-93b0-54c80d73a5b9",
   "metadata": {},
   "outputs": [],
   "source": [
    "load = load[['seq','is_chiitoi']]\n",
    "load = load.rename(columns={'seq':'exog','is_chiitoi':'endog'})"
   ]
  },
  {
   "cell_type": "code",
   "execution_count": 48,
   "id": "e4ba7e0f-a317-4542-be0f-46cea9610f6f",
   "metadata": {},
   "outputs": [
    {
     "data": {
      "text/plain": [
       "(210550, 2)"
      ]
     },
     "execution_count": 48,
     "metadata": {},
     "output_type": "execute_result"
    }
   ],
   "source": [
    "load.shape"
   ]
  },
  {
   "cell_type": "code",
   "execution_count": 49,
   "id": "b49b342e-807e-49b2-b30b-837660e22801",
   "metadata": {},
   "outputs": [],
   "source": [
    "df = load.iloc[:10000].reset_index(drop=True)"
   ]
  },
  {
   "cell_type": "code",
   "execution_count": 50,
   "id": "4b69fd4b-5217-4748-8443-243c7505f4dc",
   "metadata": {},
   "outputs": [],
   "source": [
    "train, test = train_test_split(df, test_size=0.2)\n",
    "\n",
    "train, val = train_test_split(train, test_size=0.1)"
   ]
  },
  {
   "cell_type": "code",
   "execution_count": 51,
   "id": "c962f7a3-76ef-4ae1-b18d-e3d83474cba9",
   "metadata": {},
   "outputs": [
    {
     "data": {
      "text/plain": [
       "(800, 2)"
      ]
     },
     "execution_count": 51,
     "metadata": {},
     "output_type": "execute_result"
    }
   ],
   "source": [
    "val.shape"
   ]
  },
  {
   "cell_type": "markdown",
   "id": "b4bd7518-b288-4e22-ae82-b5e2774e5c55",
   "metadata": {},
   "source": [
    "# Train"
   ]
  },
  {
   "cell_type": "code",
   "execution_count": 52,
   "id": "1d918faa-3bcb-41af-ac11-6f6cd44cdeae",
   "metadata": {},
   "outputs": [],
   "source": [
    "train_dataset = SequenceDataset(train)\n",
    "val_dataset = SequenceDataset(val)\n",
    "test_dataset =  SequenceDataset(test)"
   ]
  },
  {
   "cell_type": "code",
   "execution_count": 53,
   "id": "9478ad30-bd02-462a-8e79-fb80047e1cee",
   "metadata": {},
   "outputs": [],
   "source": [
    "train_loader = DataLoader(train_dataset, batch_size=2, shuffle=True, collate_fn=collate_fn)\n",
    "val_loader = DataLoader(val_dataset, batch_size=2, shuffle=False, collate_fn=collate_fn)\n",
    "test_loader = DataLoader(test_dataset, batch_size=2, shuffle=False, collate_fn=collate_fn)"
   ]
  },
  {
   "cell_type": "code",
   "execution_count": 54,
   "id": "395d9754-9454-478a-ad73-db2b1ffe33e9",
   "metadata": {},
   "outputs": [],
   "source": [
    "vocab_size = 35"
   ]
  },
  {
   "cell_type": "code",
   "execution_count": 56,
   "id": "cf9054cb-bbd5-443d-9fc2-4c7e49dad352",
   "metadata": {},
   "outputs": [],
   "source": [
    "device = torch.device(\"cuda\")"
   ]
  },
  {
   "cell_type": "code",
   "execution_count": 64,
   "id": "d5230c8f-ca68-49fc-aef9-1f3084318fb9",
   "metadata": {},
   "outputs": [],
   "source": [
    "model = TransformerBinaryClassifier(\n",
    "    vocab_size=vocab_size,\n",
    "    embed_dim=32,\n",
    "    num_heads=2,\n",
    "    num_layers=2,\n",
    "    ff_dim=64,\n",
    "    dropout=0.1\n",
    ")"
   ]
  },
  {
   "cell_type": "code",
   "execution_count": 57,
   "id": "58ea7d62-9f58-435c-8836-a0e599e78ee6",
   "metadata": {},
   "outputs": [
    {
     "name": "stdout",
     "output_type": "stream",
     "text": [
      "Epoch [1/5] Train Loss: 0.0847, Train Acc: 0.9840, Val Loss: 0.0963, Val Acc: 0.9800\n",
      "Epoch [2/5] Train Loss: 0.0813, Train Acc: 0.9840, Val Loss: 0.0951, Val Acc: 0.9800\n",
      "Epoch [3/5] Train Loss: 0.0805, Train Acc: 0.9840, Val Loss: 0.0990, Val Acc: 0.9800\n",
      "Epoch [4/5] Train Loss: 0.0809, Train Acc: 0.9840, Val Loss: 0.0972, Val Acc: 0.9800\n",
      "Epoch [5/5] Train Loss: 0.0814, Train Acc: 0.9840, Val Loss: 0.0979, Val Acc: 0.9800\n"
     ]
    }
   ],
   "source": [
    "train_model(model, train_loader, val_loader, num_epochs=5, lr=1e-3, device=device)"
   ]
  },
  {
   "cell_type": "code",
   "execution_count": 60,
   "id": "f03d331f-dbe2-435a-9bb8-795def78af4f",
   "metadata": {},
   "outputs": [
    {
     "data": {
      "image/png": "[encoded data removed]",
      "text/plain": [
       "<Figure size 640x480 with 1 Axes>"
      ]
     },
     "metadata": {},
     "output_type": "display_data"
    },
    {
     "name": "stdout",
     "output_type": "stream",
     "text": [
      "Test AUC: 0.712\n",
      "Test AUC: 0.7124088645058831\n"
     ]
    }
   ],
   "source": [
    "model.to(device)\n",
    "test_auc = evaluate_on_test_set(model, test_loader, device=device)\n",
    "print(\"Test AUC:\", test_auc)"
   ]
  },
  {
   "cell_type": "code",
   "execution_count": 65,
   "id": "dfe3ff1e-fc94-46ab-8e22-41ee756e48f7",
   "metadata": {},
   "outputs": [],
   "source": [
    "model_1 = TransformerBinaryClassifier(\n",
    "    vocab_size=vocab_size,\n",
    "    embed_dim=32,\n",
    "    num_heads=2,\n",
    "    num_layers=1,\n",
    "    ff_dim=64,\n",
    "    dropout=0.1\n",
    ")"
   ]
  },
  {
   "cell_type": "code",
   "execution_count": 66,
   "id": "c8b1ed3f-2070-40f6-89c7-fee78cad62ba",
   "metadata": {},
   "outputs": [
    {
     "name": "stdout",
     "output_type": "stream",
     "text": [
      "Epoch [1/5] Train Loss: 0.0860, Train Acc: 0.9829, Val Loss: 0.0940, Val Acc: 0.9800\n",
      "Epoch [2/5] Train Loss: 0.0796, Train Acc: 0.9840, Val Loss: 0.1006, Val Acc: 0.9800\n",
      "Epoch [3/5] Train Loss: 0.0772, Train Acc: 0.9840, Val Loss: 0.0939, Val Acc: 0.9800\n",
      "Epoch [4/5] Train Loss: 0.0767, Train Acc: 0.9840, Val Loss: 0.0998, Val Acc: 0.9800\n",
      "Epoch [5/5] Train Loss: 0.0760, Train Acc: 0.9840, Val Loss: 0.1021, Val Acc: 0.9800\n"
     ]
    }
   ],
   "source": [
    "train_model(model_1, train_loader, val_loader, num_epochs=5, lr=1e-3, device=device)"
   ]
  },
  {
   "cell_type": "code",
   "execution_count": 67,
   "id": "b4ff355f-3dd8-4fa2-91f9-56feb353162e",
   "metadata": {},
   "outputs": [
    {
     "data": {
      "image/png": "[encoded data removed]",
      "text/plain": [
       "<Figure size 640x480 with 1 Axes>"
      ]
     },
     "metadata": {},
     "output_type": "display_data"
    },
    {
     "name": "stdout",
     "output_type": "stream",
     "text": [
      "Test AUC: 0.689\n",
      "Test AUC: 0.6890324598763204\n"
     ]
    }
   ],
   "source": [
    "model_1.to(device)\n",
    "test_auc = evaluate_on_test_set(model_1, test_loader, device=device)\n",
    "print(\"Test AUC:\", test_auc)"
   ]
  },
  {
   "cell_type": "code",
   "execution_count": 68,
   "id": "98f05650-4087-4117-a318-ab7939e010b4",
   "metadata": {},
   "outputs": [],
   "source": [
    "model_1 = TransformerBinaryClassifier(\n",
    "    vocab_size=vocab_size,\n",
    "    embed_dim=32,\n",
    "    num_heads=2,\n",
    "    num_layers=3,\n",
    "    ff_dim=64,\n",
    "    dropout=0.1\n",
    ")"
   ]
  },
  {
   "cell_type": "code",
   "execution_count": 69,
   "id": "a9de3453-2163-4abc-940b-e84c105cd06d",
   "metadata": {},
   "outputs": [
    {
     "name": "stdout",
     "output_type": "stream",
     "text": [
      "Epoch [1/5] Train Loss: 0.0835, Train Acc: 0.9839, Val Loss: 0.0986, Val Acc: 0.9800\n",
      "Epoch [2/5] Train Loss: 0.0829, Train Acc: 0.9840, Val Loss: 0.0998, Val Acc: 0.9800\n",
      "Epoch [3/5] Train Loss: 0.0825, Train Acc: 0.9840, Val Loss: 0.0981, Val Acc: 0.9800\n",
      "Epoch [4/5] Train Loss: 0.0830, Train Acc: 0.9840, Val Loss: 0.0980, Val Acc: 0.9800\n",
      "Epoch [5/5] Train Loss: 0.0829, Train Acc: 0.9840, Val Loss: 0.0992, Val Acc: 0.9800\n"
     ]
    }
   ],
   "source": [
    "train_model(model_1, train_loader, val_loader, num_epochs=5, lr=1e-3, device=device)"
   ]
  },
  {
   "cell_type": "code",
   "execution_count": 70,
   "id": "fd71cc07-8f4f-49a2-84b9-a05d82335eb2",
   "metadata": {},
   "outputs": [
    {
     "data": {
      "image/png": "[encoded data removed]",
      "text/plain": [
       "<Figure size 640x480 with 1 Axes>"
      ]
     },
     "metadata": {},
     "output_type": "display_data"
    },
    {
     "name": "stdout",
     "output_type": "stream",
     "text": [
      "Test AUC: 0.306\n",
      "Test AUC: 0.30613104261411483\n"
     ]
    }
   ],
   "source": [
    "model_1.to(device)\n",
    "test_auc = evaluate_on_test_set(model_1, test_loader, device=device)\n",
    "print(\"Test AUC:\", test_auc)"
   ]
  },
  {
   "cell_type": "markdown",
   "id": "7feaff31-ce6e-42f5-9417-7954a59fc921",
   "metadata": {},
   "source": [
    "# Explainability"
   ]
  },
  {
   "cell_type": "code",
   "execution_count": null,
   "id": "f4c450bd-a406-4a21-94a7-6464f06191af",
   "metadata": {},
   "outputs": [],
   "source": []
  }
 ],
 "metadata": {
  "kernelspec": {
   "display_name": "Python 3 (ipykernel)",
   "language": "python",
   "name": "python3"
  },
  "language_info": {
   "codemirror_mode": {
    "name": "ipython",
    "version": 3
   },
   "file_extension": ".py",
   "mimetype": "text/x-python",
   "name": "python",
   "nbconvert_exporter": "python",
   "pygments_lexer": "ipython3",
   "version": "3.12.7"
  }
 },
 "nbformat": 4,
 "nbformat_minor": 5
}
