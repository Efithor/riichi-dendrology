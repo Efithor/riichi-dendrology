{
 "cells": [
  {
   "cell_type": "code",
   "execution_count": null,
   "id": "dc39a401-83f6-494c-a69c-0c4ad7511cd4",
   "metadata": {},
   "outputs": [],
   "source": [
    "import pandas as pd\n",
    "import numpy as np\n",
    "from joblib import Parallel, delayed\n",
    "from tqdm import tqdm\n",
    "import plotly.express as px"
   ]
  },
  {
   "cell_type": "code",
   "execution_count": null,
   "id": "21b80d40-26f3-4831-990d-6936c4089603",
   "metadata": {},
   "outputs": [],
   "source": [
    "pd.set_option('display.max_columns', None)\n",
    "pd.set_option('display.max_rows', 300)"
   ]
  },
  {
   "cell_type": "code",
   "execution_count": null,
   "id": "11abd5e9-0961-4c4c-9502-da32aa8bf8ac",
   "metadata": {},
   "outputs": [],
   "source": [
    "file_path = 'E:/ML/datasets/mahjong/data/2019/block_5000.parquet'"
   ]
  },
  {
   "cell_type": "code",
   "execution_count": null,
   "id": "2b2ec4bd-b018-4398-9214-5762f93bff56",
   "metadata": {},
   "outputs": [],
   "source": [
    "states = pd.read_parquet(file_path)"
   ]
  },
  {
   "cell_type": "code",
   "execution_count": null,
   "id": "fd8253b3-003e-4671-a286-d717b542e196",
   "metadata": {},
   "outputs": [],
   "source": [
    "load = states.copy()"
   ]
  },
  {
   "cell_type": "code",
   "execution_count": null,
   "id": "65287596-940f-4173-a41f-be8ae9d27929",
   "metadata": {},
   "outputs": [],
   "source": [
    "len(states.loc[:,511].unique())"
   ]
  },
  {
   "cell_type": "code",
   "execution_count": null,
   "id": "1cf02ebb-d0e2-445d-be13-30f4d6aa8a40",
   "metadata": {},
   "outputs": [],
   "source": [
    "states.head(5)"
   ]
  },
  {
   "cell_type": "code",
   "execution_count": null,
   "id": "ce60f9ce-bbd1-424b-816f-155490e4f879",
   "metadata": {},
   "outputs": [],
   "source": [
    "states.loc[states[511] == '009379d9'][:5]"
   ]
  },
  {
   "cell_type": "code",
   "execution_count": null,
   "id": "abbf0654-9fa9-40a6-8f61-0588d1929bbf",
   "metadata": {},
   "outputs": [],
   "source": [
    "states[states.columns[:-1]] = states[states.columns[:-1]].astype(int)"
   ]
  },
  {
   "cell_type": "code",
   "execution_count": null,
   "id": "2333496a-d975-4842-989e-a9b832b2f138",
   "metadata": {},
   "outputs": [],
   "source": [
    "states_dora_sum = states.loc[:, 34:67].sum(axis=1)"
   ]
  },
  {
   "cell_type": "code",
   "execution_count": null,
   "id": "7346c4ee-dc90-415a-9105-a1e83429cbd3",
   "metadata": {},
   "outputs": [],
   "source": [
    "states.loc[:, dora_columns].sum(axis=1).value_counts()"
   ]
  },
  {
   "cell_type": "code",
   "execution_count": null,
   "id": "98cd215e-3634-4f90-81e9-af7d8f864351",
   "metadata": {},
   "outputs": [],
   "source": [
    "states = states.loc[states_dora_sum == 1]"
   ]
  },
  {
   "cell_type": "code",
   "execution_count": null,
   "id": "1396753f-fa1e-42ab-9b0d-3885c8f89667",
   "metadata": {},
   "outputs": [],
   "source": [
    "states = states.reset_index(drop = True)"
   ]
  },
  {
   "cell_type": "code",
   "execution_count": null,
   "id": "8dfdf099-3d44-43c5-ba76-4874c2c0b9fe",
   "metadata": {},
   "outputs": [],
   "source": [
    "states.to_csv('single_dora_states.csv',index=False)"
   ]
  },
  {
   "cell_type": "code",
   "execution_count": null,
   "id": "ffc31f74-3ad0-4c3c-bdc6-2f16f4d598c3",
   "metadata": {},
   "outputs": [],
   "source": [
    "states = pd.read_csv('single_dora_states.csv', dtype={511:str})"
   ]
  },
  {
   "cell_type": "markdown",
   "id": "c98c88f8-6b8e-4bfe-b2d5-ba27907d6fb5",
   "metadata": {},
   "source": [
    "# Identify Tenpai Chiitoi Hands"
   ]
  },
  {
   "cell_type": "code",
   "execution_count": null,
   "id": "65861818-4c94-48a8-aab7-a2f50fce7fc4",
   "metadata": {},
   "outputs": [],
   "source": [
    "def is_chiitoi_tenpai(hand):\n",
    "    num_pairs = len(hand.drop(hand[hand.isin([0,1])].index))\n",
    "    if num_pairs == 6:\n",
    "        return True\n",
    "    return False"
   ]
  },
  {
   "cell_type": "code",
   "execution_count": null,
   "id": "61b29f82-abe5-4fdb-b4b9-e8ea4b86fad1",
   "metadata": {},
   "outputs": [],
   "source": [
    "all_hands = states[states.columns[68:102]]"
   ]
  },
  {
   "cell_type": "code",
   "execution_count": null,
   "id": "b4806d04-3c62-4eb0-9d09-76fa0ef24e6e",
   "metadata": {},
   "outputs": [],
   "source": [
    "chiitois = Parallel(n_jobs=-1)(\n",
    "    delayed(lambda i: is_chiitoi_tenpai(i))(i)\n",
    "    for _, i in tqdm(all_hands.iterrows())\n",
    ")"
   ]
  },
  {
   "cell_type": "code",
   "execution_count": null,
   "id": "1ee75b76-ac2a-445a-a07f-b988bc7e8217",
   "metadata": {},
   "outputs": [],
   "source": [
    "all_hands"
   ]
  },
  {
   "cell_type": "markdown",
   "id": "a7064f0d-bdb4-4411-9159-52de731e8d8d",
   "metadata": {},
   "source": [
    "## Only want one chiitoi per hand (the first one)"
   ]
  },
  {
   "cell_type": "code",
   "execution_count": null,
   "id": "2da4f0bc-3e4c-4358-917e-0a793315e17a",
   "metadata": {},
   "outputs": [],
   "source": [
    "chiitoi_index = states[chiitois].groupby([511,32]).apply(lambda group: group.index[0])"
   ]
  },
  {
   "cell_type": "code",
   "execution_count": null,
   "id": "2c9728e6-772a-4da6-8705-516c1a676875",
   "metadata": {},
   "outputs": [],
   "source": [
    "pd.Series(chiitois).value_counts()"
   ]
  },
  {
   "cell_type": "code",
   "execution_count": null,
   "id": "8aa2e60b-b484-450c-beb9-48888e355ec4",
   "metadata": {},
   "outputs": [],
   "source": [
    "chiitoi_index.to_csv('ids_of_chitoii_tenpais.csv')"
   ]
  },
  {
   "cell_type": "code",
   "execution_count": null,
   "id": "2ef3601e-e9f2-4306-adf8-047c97ba43de",
   "metadata": {},
   "outputs": [],
   "source": [
    "chiitoi_index = pd.read_csv('ids_of_chitoii_tenpais.csv')"
   ]
  },
  {
   "cell_type": "code",
   "execution_count": null,
   "id": "b2b07d1a-4091-4cd7-8e8c-a97c958d207c",
   "metadata": {},
   "outputs": [],
   "source": [
    "states['group_id'] = states['511'].astype(str) + states['32'].astype(str) + states['2'].astype(str)"
   ]
  },
  {
   "cell_type": "code",
   "execution_count": null,
   "id": "27e3398d-01a5-40f3-8137-f461f7b3342f",
   "metadata": {},
   "outputs": [],
   "source": [
    "grouped_states = states.groupby('group_id')"
   ]
  },
  {
   "cell_type": "code",
   "execution_count": null,
   "id": "2f4b6559-752d-4c19-bb7c-23a87730068f",
   "metadata": {},
   "outputs": [],
   "source": [
    "total_hands = len(grouped_states.size())"
   ]
  },
  {
   "cell_type": "code",
   "execution_count": null,
   "id": "98e45e28-da9f-443f-8abf-4755102e8beb",
   "metadata": {},
   "outputs": [],
   "source": [
    "total_hands"
   ]
  },
  {
   "cell_type": "markdown",
   "id": "68a87fc0-e485-46bf-bc02-49fcb22d808f",
   "metadata": {},
   "source": [
    "# Transform each chiitoi record into the needed format"
   ]
  },
  {
   "cell_type": "markdown",
   "id": "c083d1d1-37cf-4847-87d2-560b3ef07afd",
   "metadata": {},
   "source": [
    "We'll only focus on chiitois with one dora.\n",
    "\n",
    "[round_number, wind, dora, discard, ...]"
   ]
  },
  {
   "cell_type": "code",
   "execution_count": null,
   "id": "096caeb6-bc84-40c2-9757-77dddaa84e77",
   "metadata": {},
   "outputs": [],
   "source": [
    "def id_to_tile(id):\n",
    "    return id %34"
   ]
  },
  {
   "cell_type": "code",
   "execution_count": null,
   "id": "5055fb67-bb49-4f6c-bac7-2916ed70feef",
   "metadata": {},
   "outputs": [],
   "source": [
    "states.iloc[test_chiitoi.iloc[2]]['2']"
   ]
  },
  {
   "cell_type": "code",
   "execution_count": null,
   "id": "d4fa64fe-0e3d-46bc-836c-6d27af00a2b6",
   "metadata": {},
   "outputs": [],
   "source": [
    "test_chiitoi = chiitoi_index.iloc[3]\n",
    "# Get game, round, and player number\n",
    "turns = states.loc[(states['511'] == test_chiitoi.iloc[0]) & (states['32'] == test_chiitoi.iloc[1]) & (states['2'] == states.iloc[test_chiitoi.iloc[2]]['2'])]"
   ]
  },
  {
   "cell_type": "code",
   "execution_count": null,
   "id": "639e32db-974d-4b6f-8b01-62bbb4a8079f",
   "metadata": {},
   "outputs": [],
   "source": [
    "columns_of_interest = ['0','1'] + turns.columns[10:14].to_list() + turns.columns[34:68].to_list() + ['510']"
   ]
  },
  {
   "cell_type": "code",
   "execution_count": null,
   "id": "5ab36712-9bd1-44d6-a117-0f52145777cc",
   "metadata": {},
   "outputs": [],
   "source": [
    "turns[columns_of_interest]"
   ]
  },
  {
   "cell_type": "markdown",
   "id": "c0036896-fa45-457a-8a3a-2c4bcd6bd51a",
   "metadata": {},
   "source": [
    "## Round Wind"
   ]
  },
  {
   "cell_type": "code",
   "execution_count": null,
   "id": "54738628-7e67-4c82-9e6f-1cbe9976da99",
   "metadata": {},
   "outputs": [],
   "source": [
    "turns['0'].iloc[0]"
   ]
  },
  {
   "cell_type": "markdown",
   "id": "445d19ee-4af3-483c-b111-44bc15484664",
   "metadata": {},
   "source": [
    "## is Dealer"
   ]
  },
  {
   "cell_type": "code",
   "execution_count": null,
   "id": "6ef81386-a69d-46b1-93d9-92617715290b",
   "metadata": {},
   "outputs": [],
   "source": [
    "int((turns['1'].iloc[0] - turns['2'].iloc[0]) == 0)"
   ]
  },
  {
   "cell_type": "markdown",
   "id": "37dd5fd4-484f-4da4-a183-407b6cf49dd0",
   "metadata": {},
   "source": [
    "## Step count"
   ]
  },
  {
   "cell_type": "code",
   "execution_count": null,
   "id": "d8a76b77-9a31-40c9-9ee4-3bd807d7746b",
   "metadata": {},
   "outputs": [],
   "source": [
    "turns['33'].iloc[-1]"
   ]
  },
  {
   "cell_type": "markdown",
   "id": "43c71305-7afe-48a3-b963-357ee9252535",
   "metadata": {},
   "source": [
    "## is Riichi"
   ]
  },
  {
   "cell_type": "code",
   "execution_count": null,
   "id": "c0570c53-d4e3-410d-a142-7e454f1646dc",
   "metadata": {},
   "outputs": [],
   "source": [
    "last_riichi = turns.iloc[-1][10:14].reset_index(drop=True)"
   ]
  },
  {
   "cell_type": "code",
   "execution_count": null,
   "id": "1f65b2cf-b4a7-426a-bcde-b00b32ff24dc",
   "metadata": {},
   "outputs": [],
   "source": [
    "last_riichi[turns['2'].iloc[0]]"
   ]
  },
  {
   "cell_type": "markdown",
   "id": "23029a4f-04f9-4fb0-9326-e032037c4c5c",
   "metadata": {},
   "source": [
    "## Dora"
   ]
  },
  {
   "cell_type": "code",
   "execution_count": null,
   "id": "f001ad2f-44ec-4a8f-b21e-5f75f0de2506",
   "metadata": {},
   "outputs": [],
   "source": [
    "dora_series = turns.iloc[0,34:68]"
   ]
  },
  {
   "cell_type": "code",
   "execution_count": null,
   "id": "53d7df2d-afc9-4ac5-9506-6c6f12ff7041",
   "metadata": {},
   "outputs": [],
   "source": [
    "id_to_tile(int(dora_series.loc[dora_series==1].index[0]))"
   ]
  },
  {
   "cell_type": "markdown",
   "id": "87b7024d-1724-45e9-96a6-3502a40bb599",
   "metadata": {},
   "source": [
    "## Discard column"
   ]
  },
  {
   "cell_type": "code",
   "execution_count": null,
   "id": "035e9a50-2fa3-4c53-a7ae-bf1e94013a03",
   "metadata": {},
   "outputs": [],
   "source": [
    "turns[columns_of_interest]['510'].to_list()"
   ]
  },
  {
   "cell_type": "markdown",
   "id": "f58affcb-5716-4dde-9e54-fea024bf6369",
   "metadata": {},
   "source": [
    "## Full Function"
   ]
  },
  {
   "cell_type": "code",
   "execution_count": null,
   "id": "9914e715-7ee4-4a4c-880c-7ea8ac1cb6af",
   "metadata": {},
   "outputs": [],
   "source": [
    "dora_columns = []\n",
    "for i in range(34,68):\n",
    "    dora_columns = dora_columns + [str(i)]"
   ]
  },
  {
   "cell_type": "code",
   "execution_count": null,
   "id": "7d34e47e-2c9f-43a8-97e5-1e08b20c8cdd",
   "metadata": {},
   "outputs": [],
   "source": [
    "def player_round_to_discards(round_df, stop = None):\n",
    "    round_df = round_df.reset_index(drop=True)\n",
    "    if stop:\n",
    "        round_df = round_df.iloc[:stop]\n",
    "    else:\n",
    "        chiitoi_hand = round_df.loc[round_df['is_chiitoi']==1]\n",
    "        if chiitoi_hand.shape[0] != 0:\n",
    "            round_df = round_df.iloc[:chiitoi_hand.index[0]+1]\n",
    "        \n",
    "    wind = [round_df['0'].iloc[0]]\n",
    "    \n",
    "    dealer = [int((round_df['1'].iloc[0] - round_df['2'].iloc[0]) == 0)]\n",
    "\n",
    "    discard_num = [round_df.shape[0]]\n",
    "    \n",
    "    last_riichi = round_df.iloc[-1][['10','11','12','13']].reset_index(drop=True)\n",
    "\n",
    "    is_riichi = [last_riichi[round_df['2'].iloc[0]]]\n",
    "    \n",
    "    dora_series = round_df[dora_columns].iloc[0]\n",
    "    dora = [id_to_tile(int(dora_series.loc[dora_series==1].index[0]))]\n",
    "\n",
    "    discards = round_df['510'].to_list()\n",
    "\n",
    "    #return wind, dealer, is_riichi, dora, discards\n",
    "\n",
    "    return wind + dealer + discard_num + is_riichi + dora + discards"
   ]
  },
  {
   "cell_type": "code",
   "execution_count": null,
   "id": "60c9e14e-8a39-4498-a1f7-6935eab13c80",
   "metadata": {},
   "outputs": [],
   "source": [
    "some_group = hand_groups.get_group('001ada9412').reset_index(drop=True)\n",
    "\n",
    "chiitoi_hand = some_group.loc[some_group['is_chiitoi']==1]\n",
    "\n",
    "print(chiitoi_hand.shape[0])\n",
    "\n",
    "if chiitoi_hand.shape[0] != 0:\n",
    "    print(some_group.iloc[:chiitoi_hand.index[0]+1])"
   ]
  },
  {
   "cell_type": "code",
   "execution_count": null,
   "id": "d4643bf0-ba02-4361-966e-7bd88c0384c0",
   "metadata": {},
   "outputs": [],
   "source": [
    "\n",
    "some_group.loc[some_group['is_chiitoi']==1]"
   ]
  },
  {
   "cell_type": "code",
   "execution_count": null,
   "id": "d9cf6d3b-3107-4f89-ad4c-4e87c88c8df6",
   "metadata": {},
   "outputs": [],
   "source": [
    "chiitoi_index"
   ]
  },
  {
   "cell_type": "code",
   "execution_count": null,
   "id": "e8992951-c9d3-4cd9-99fb-fa0549389702",
   "metadata": {},
   "outputs": [],
   "source": [
    "player_round_to_discards(turns)"
   ]
  },
  {
   "cell_type": "code",
   "execution_count": null,
   "id": "b4d53f7e-7d6a-4e0f-be7a-c1481458ec6a",
   "metadata": {},
   "outputs": [],
   "source": [
    "turns.shape"
   ]
  },
  {
   "cell_type": "markdown",
   "id": "130671a0-8e7f-424a-ae5e-d2394a4f57c7",
   "metadata": {},
   "source": [
    "## Get chiitoi rounds"
   ]
  },
  {
   "cell_type": "code",
   "execution_count": null,
   "id": "91c22c00-656d-456c-9eda-7686c05773fb",
   "metadata": {},
   "outputs": [],
   "source": [
    "states"
   ]
  },
  {
   "cell_type": "code",
   "execution_count": null,
   "id": "5ad5bb63-f7eb-4ab8-97ed-5f372166b3f3",
   "metadata": {},
   "outputs": [],
   "source": [
    "chiitoi_index = chiitoi_index.merge(states['2'], how='left', left_on=['0'], right_index=True)"
   ]
  },
  {
   "cell_type": "code",
   "execution_count": null,
   "id": "a150e802-b5c9-4fac-9d19-790f248bfc0b",
   "metadata": {},
   "outputs": [],
   "source": [
    "chiitoi_index"
   ]
  },
  {
   "cell_type": "code",
   "execution_count": null,
   "id": "7ef05cf6-0fa0-4ed6-8bc1-f64f4e7439ee",
   "metadata": {},
   "outputs": [],
   "source": [
    "turns_frame = chiitoi_index.merge(states, how='left', on=['511','32','2'])"
   ]
  },
  {
   "cell_type": "code",
   "execution_count": null,
   "id": "a9fe37cf-6a71-45f5-8497-14e70fd36253",
   "metadata": {},
   "outputs": [],
   "source": [
    "turns_frame = turns_frame.rename(columns={'0_x':'state_index', '0_y': '0'})"
   ]
  },
  {
   "cell_type": "code",
   "execution_count": null,
   "id": "2bbe926f-d969-403b-8247-cfe42648c93e",
   "metadata": {},
   "outputs": [],
   "source": [
    "columns_of_interest = ['511','32','2'] + ['0', '1', '33', '10','11','12','13'] + dora_columns + ['510']"
   ]
  },
  {
   "cell_type": "code",
   "execution_count": null,
   "id": "37e683ac-eb64-4708-b1c1-a580aff71b2d",
   "metadata": {},
   "outputs": [],
   "source": [
    "turns_frame[columns_of_interest]"
   ]
  },
  {
   "cell_type": "code",
   "execution_count": null,
   "id": "80b46a6e-8c37-4f18-a95b-931663b06d28",
   "metadata": {},
   "outputs": [],
   "source": [
    "turns_frame"
   ]
  },
  {
   "cell_type": "code",
   "execution_count": null,
   "id": "793442b8-cf75-4313-97c8-3f99ac7f105f",
   "metadata": {},
   "outputs": [],
   "source": [
    "turns_frame['group_id'] = turns_frame['511'].astype(str) + turns_frame['32'].astype(str) + turns_frame['2'].astype(str)"
   ]
  },
  {
   "cell_type": "code",
   "execution_count": null,
   "id": "5b2d3175-037d-4b8e-a275-869d7096cff1",
   "metadata": {},
   "outputs": [],
   "source": [
    "turn_groups = turns_frame.groupby('group_id')"
   ]
  },
  {
   "cell_type": "markdown",
   "id": "623e7fb3-b920-4eec-a108-b10bc9aaca62",
   "metadata": {},
   "source": [
    "## Paralell Run"
   ]
  },
  {
   "cell_type": "code",
   "execution_count": null,
   "id": "25258d17-d684-44fb-ba91-b33705e43742",
   "metadata": {},
   "outputs": [],
   "source": [
    "chiitoi_round_sequences = Parallel(n_jobs=-1)(\n",
    "    delayed(lambda i: {'group_id': i['group_id'].iloc[-1], 'seq': player_round_to_discards(i)})(i)\n",
    "    for _, i in tqdm(turn_groups.__iter__())\n",
    ")"
   ]
  },
  {
   "cell_type": "code",
   "execution_count": null,
   "id": "ea204402-16ab-4be9-a35c-de79a42af186",
   "metadata": {},
   "outputs": [],
   "source": [
    "chiitoi_df = pd.DataFrame(chiitoi_round_sequences)"
   ]
  },
  {
   "cell_type": "markdown",
   "id": "4eda7bd4-5ae3-4aa2-bc41-3b31c7a69700",
   "metadata": {},
   "source": [
    "# Determine the needed distribution of round numbers for the non chiitoi hands\n",
    "We also want to pull a percentage of hands that is equal to the percentage of chiitois we have overall."
   ]
  },
  {
   "cell_type": "code",
   "execution_count": null,
   "id": "9d5604fd-d133-493d-8ef7-8141e36aa5e0",
   "metadata": {},
   "outputs": [],
   "source": [
    "chiitoi_steps = chiitoi_df['seq'].apply(lambda x: x[2])"
   ]
  },
  {
   "cell_type": "code",
   "execution_count": null,
   "id": "b383fa4c-c2ce-4986-9a7a-47f200291e15",
   "metadata": {},
   "outputs": [],
   "source": [
    "chiitoi_steps.max()"
   ]
  },
  {
   "cell_type": "code",
   "execution_count": null,
   "id": "f8f63287-e846-4083-898c-556ec42d9bb9",
   "metadata": {},
   "outputs": [],
   "source": [
    "chiitoi_dist = chiitoi_steps.value_counts()/chiitoi_steps.shape[0]"
   ]
  },
  {
   "cell_type": "code",
   "execution_count": null,
   "id": "92c870d4-96d9-43f3-977a-a487d786fc03",
   "metadata": {},
   "outputs": [],
   "source": [
    "chiitoi_dist"
   ]
  },
  {
   "cell_type": "code",
   "execution_count": null,
   "id": "2cbd2eab-e28c-476b-9a01-7ddfc4f3262e",
   "metadata": {},
   "outputs": [],
   "source": [
    "fig = px.histogram(chiitoi_steps)"
   ]
  },
  {
   "cell_type": "code",
   "execution_count": null,
   "id": "2e2f214b-e67e-4ed3-bc7d-c2fbbeea9ba5",
   "metadata": {},
   "outputs": [],
   "source": [
    "fig.show()"
   ]
  },
  {
   "cell_type": "markdown",
   "id": "b993157e-97c3-4cf8-94e9-bbc5048248f4",
   "metadata": {},
   "source": [
    "# Split states into hand groups"
   ]
  },
  {
   "cell_type": "markdown",
   "id": "2ab07e8b-7799-49be-8b09-041e1e41ba91",
   "metadata": {},
   "source": [
    "## Add is chiitoi to states"
   ]
  },
  {
   "cell_type": "code",
   "execution_count": null,
   "id": "2dfed6e3-2994-4255-ac06-bfb6fa74fd25",
   "metadata": {},
   "outputs": [],
   "source": [
    "states['is_chiitoi'] = 0"
   ]
  },
  {
   "cell_type": "code",
   "execution_count": null,
   "id": "7b4d3f40-60f5-4f51-989e-1eff054c1cd0",
   "metadata": {},
   "outputs": [],
   "source": [
    "states.loc[chiitois,'is_chiitoi'] = 1"
   ]
  },
  {
   "cell_type": "code",
   "execution_count": null,
   "id": "d211b3e0-f5cb-4b79-a9a0-6dd660cf5f09",
   "metadata": {},
   "outputs": [],
   "source": [
    "states['is_chiitoi'].value_counts()"
   ]
  },
  {
   "cell_type": "code",
   "execution_count": null,
   "id": "a5840353-a408-417b-9233-cff5ddd2b5be",
   "metadata": {},
   "outputs": [],
   "source": [
    "def handle_hand_group(hand_group, dist_chiitois):\n",
    "    \n",
    "    # first, determine if this hand group contains a chiitoi tenpai.\n",
    "    has_chiitoi_tenpai = hand_group['is_chiitoi'].sum() > 0\n",
    "\n",
    "    if has_chiitoi_tenpai:\n",
    "        return player_round_to_discards(hand_group), 1\n",
    "    else:\n",
    "        stop_val = np.random.choice(dist_chiitois.index, p=dist_chiitois)\n",
    "        return player_round_to_discards(hand_group, stop=stop_val), 0"
   ]
  },
  {
   "cell_type": "code",
   "execution_count": null,
   "id": "62b647e6-a3b5-4149-b59c-1b523de64597",
   "metadata": {},
   "outputs": [],
   "source": [
    "def generate_hand_group_dict(hand_group, dist_chiitois):\n",
    "    seq, is_chiitoi = handle_hand_group(hand_group, dist_chiitois)\n",
    "\n",
    "    return {'group_id': hand_group['group_id'].iloc[0], 'seq': seq, 'is_chiitoi': is_chiitoi}"
   ]
  },
  {
   "cell_type": "code",
   "execution_count": null,
   "id": "aa71a988-575f-44c3-a5aa-be15e840e487",
   "metadata": {},
   "outputs": [],
   "source": [
    "np.random.choice(chiitoi_dist.index, p=chiitoi_dist)"
   ]
  },
  {
   "cell_type": "code",
   "execution_count": null,
   "id": "9037ec41-a9d6-42f6-80f6-da96befdb97d",
   "metadata": {},
   "outputs": [],
   "source": [
    "needed_columns = ['group_id', '0', '1', '2', '33', '10', '11', '12', '13', '34', '35', '36', '37', '38', '39', '40', '41', '42', '43', '44', '45', '46', '47', '48', '49', '50', '51', '52', '53', '54', '55', '56', '57', '58', '59', '60', '61', '62', '63', '64', '65', '66', '67', '510', 'is_chiitoi']"
   ]
  },
  {
   "cell_type": "code",
   "execution_count": null,
   "id": "0c3fd8c0-c7b8-48f3-8c3b-ce641200273d",
   "metadata": {},
   "outputs": [],
   "source": [
    "hand_groups = states[needed_columns].groupby('group_id')"
   ]
  },
  {
   "cell_type": "code",
   "execution_count": null,
   "id": "94d523e5-982b-453b-8f93-851712c5a030",
   "metadata": {},
   "outputs": [],
   "source": []
  },
  {
   "cell_type": "code",
   "execution_count": null,
   "id": "279c1e0d-48b2-4247-8b39-5d1edce2267a",
   "metadata": {},
   "outputs": [],
   "source": [
    "hand_groups"
   ]
  },
  {
   "cell_type": "markdown",
   "id": "ea3ebc0e-5ffb-4d8c-9692-d22e83e47eb4",
   "metadata": {},
   "source": [
    "# Full clean data"
   ]
  },
  {
   "cell_type": "code",
   "execution_count": null,
   "id": "8ef85cb0-68c0-4793-978a-048cb4712752",
   "metadata": {},
   "outputs": [],
   "source": [
    "full_hands = Parallel(n_jobs=-1)(\n",
    "    delayed(lambda i: generate_hand_group_dict(i, chiitoi_dist))(i)\n",
    "    for _, i in tqdm(hand_groups.__iter__())\n",
    ")"
   ]
  },
  {
   "cell_type": "code",
   "execution_count": null,
   "id": "a95c0c26-081d-4ba5-a2a7-8f04fc2ba445",
   "metadata": {},
   "outputs": [],
   "source": [
    "full_df = pd.DataFrame(full_hands)"
   ]
  },
  {
   "cell_type": "code",
   "execution_count": null,
   "id": "e1ce39e9-14a1-40d7-b103-388a36e8ed86",
   "metadata": {},
   "outputs": [],
   "source": [
    "full_df.loc[full_df['is_chiitoi'] == 0]['seq'].apply(lambda x: len(x)).mean()"
   ]
  },
  {
   "cell_type": "markdown",
   "id": "be09f0db-c513-445a-a903-9c7ae452a8bb",
   "metadata": {},
   "source": [
    "Need to write a more intelligent data truncator."
   ]
  },
  {
   "cell_type": "code",
   "execution_count": null,
   "id": "250ee352-4b54-4038-a4fb-fdc70b0e42b8",
   "metadata": {},
   "outputs": [],
   "source": [
    "full_df"
   ]
  },
  {
   "cell_type": "markdown",
   "id": "67764b94-0540-4614-a1cc-72a08a0bef1f",
   "metadata": {},
   "source": [
    "# Data Split"
   ]
  },
  {
   "cell_type": "code",
   "execution_count": null,
   "id": "ba0fc25f-acee-4af8-9018-8e4b4f6f18ec",
   "metadata": {},
   "outputs": [],
   "source": []
  },
  {
   "cell_type": "markdown",
   "id": "f14c8dd3-0c00-4466-ac47-b5a6813739ed",
   "metadata": {},
   "source": [
    "# Train neural net"
   ]
  },
  {
   "cell_type": "code",
   "execution_count": null,
   "id": "c5e246e2-95f1-4939-ae8c-7852e61fbcf3",
   "metadata": {},
   "outputs": [],
   "source": []
  },
  {
   "cell_type": "markdown",
   "id": "8fda416b-5bcb-44f1-8eeb-375cfb515a33",
   "metadata": {},
   "source": [
    "# Test neural net"
   ]
  },
  {
   "cell_type": "code",
   "execution_count": null,
   "id": "0c7591b4-f4b9-484f-aa5a-a2c9ab82e4d9",
   "metadata": {},
   "outputs": [],
   "source": []
  },
  {
   "cell_type": "markdown",
   "id": "22af80ba-a4ca-4bcd-b0b2-9e536a0b4339",
   "metadata": {},
   "source": [
    "# Repeat for various thicknesses"
   ]
  },
  {
   "cell_type": "code",
   "execution_count": null,
   "id": "90041a97-f176-4440-8693-7c3060fe0f7a",
   "metadata": {},
   "outputs": [],
   "source": []
  },
  {
   "cell_type": "markdown",
   "id": "614e370e-6183-421b-9513-b67a010fd6eb",
   "metadata": {},
   "source": [
    "# Attempt to explain the thinnest-effective model"
   ]
  },
  {
   "cell_type": "code",
   "execution_count": null,
   "id": "7546f38a-5ace-4d25-9320-31a1c6e1c971",
   "metadata": {},
   "outputs": [],
   "source": []
  }
 ],
 "metadata": {
  "kernelspec": {
   "display_name": "Python 3 (ipykernel)",
   "language": "python",
   "name": "python3"
  },
  "language_info": {
   "codemirror_mode": {
    "name": "ipython",
    "version": 3
   },
   "file_extension": ".py",
   "mimetype": "text/x-python",
   "name": "python",
   "nbconvert_exporter": "python",
   "pygments_lexer": "ipython3",
   "version": "3.12.7"
  }
 },
 "nbformat": 4,
 "nbformat_minor": 5
}
