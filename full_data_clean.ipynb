{
 "cells": [
  {
   "cell_type": "markdown",
   "id": "a3251707-53c5-4ea4-afbf-4039c6bfc977",
   "metadata": {},
   "source": [
    "# Imports"
   ]
  },
  {
   "cell_type": "code",
   "execution_count": 173,
   "id": "3a0543d4-6ecf-405e-ab7a-bc5d44d2b568",
   "metadata": {},
   "outputs": [],
   "source": [
    "import pandas as pd\n",
    "import numpy as np\n",
    "from joblib import Parallel, delayed\n",
    "from tqdm import tqdm\n",
    "import plotly.express as px"
   ]
  },
  {
   "cell_type": "code",
   "execution_count": null,
   "id": "09e27151-2915-4230-9fee-723a925d19d4",
   "metadata": {},
   "outputs": [],
   "source": [
    "pd.set_option('display.max_columns', None)\n",
    "pd.set_option('display.max_rows', 300)"
   ]
  },
  {
   "cell_type": "markdown",
   "id": "a854f6a7-7101-484f-b668-c19e1b19b4da",
   "metadata": {},
   "source": [
    "# Load"
   ]
  },
  {
   "cell_type": "code",
   "execution_count": null,
   "id": "b992e146-6a45-44d2-9ad1-6f0ced4e30d2",
   "metadata": {},
   "outputs": [],
   "source": [
    "file_path = 'E:/ML/datasets/mahjong/data/2019/block_5000.parquet'"
   ]
  },
  {
   "cell_type": "code",
   "execution_count": null,
   "id": "b4e1e04a-231b-429b-bdc0-04d3ed416131",
   "metadata": {},
   "outputs": [],
   "source": [
    "states = pd.read_parquet(file_path)"
   ]
  },
  {
   "cell_type": "code",
   "execution_count": null,
   "id": "79cfeead-28f7-4d92-a466-7d677a28f355",
   "metadata": {},
   "outputs": [],
   "source": [
    "states.columns = states.columns.map(\n",
    "    str\n",
    ")"
   ]
  },
  {
   "cell_type": "markdown",
   "id": "6039f0bf-6004-4ed6-a551-98ee5c26b07c",
   "metadata": {},
   "source": [
    "## Trim unneeded columns to save on space"
   ]
  },
  {
   "cell_type": "code",
   "execution_count": null,
   "id": "f3ea9eb2-db82-4904-8770-3ba2c0de0b28",
   "metadata": {},
   "outputs": [],
   "source": [
    "dora_columns = []\n",
    "for i in range(34,68):\n",
    "    dora_columns = dora_columns + [str(i)]"
   ]
  },
  {
   "cell_type": "code",
   "execution_count": null,
   "id": "d16fe976-7c31-49c7-b176-de15b8e51188",
   "metadata": {},
   "outputs": [],
   "source": [
    "hand_columns = []\n",
    "for i in range(68,102):\n",
    "    hand_columns = hand_columns + [str(i)]"
   ]
  },
  {
   "cell_type": "code",
   "execution_count": null,
   "id": "62561fce-8519-4762-9505-fda798d0dba9",
   "metadata": {},
   "outputs": [],
   "source": [
    "states['group_id'] = states['511'].astype(str) + states['32'].astype(str) + states['2'].astype(str)"
   ]
  },
  {
   "cell_type": "code",
   "execution_count": null,
   "id": "af7fc518-cc58-4027-9eae-2c390b1744a1",
   "metadata": {},
   "outputs": [],
   "source": [
    "columns_of_interest = ['group_id'] + ['0', '1','2','10','11','12','13'] + dora_columns + hand_columns + ['510']"
   ]
  },
  {
   "cell_type": "code",
   "execution_count": null,
   "id": "e2c22346-7913-4b82-95a6-02b6c379a217",
   "metadata": {},
   "outputs": [],
   "source": [
    "states = states[columns_of_interest] "
   ]
  },
  {
   "cell_type": "code",
   "execution_count": null,
   "id": "2a45db1f-9e95-42d1-82ec-82741e80dd94",
   "metadata": {},
   "outputs": [],
   "source": [
    "states[states.columns[1:]] = states[states.columns[1:]].astype(int)"
   ]
  },
  {
   "cell_type": "code",
   "execution_count": null,
   "id": "6dfbb5da-632c-41a1-be94-33375aecc7da",
   "metadata": {},
   "outputs": [],
   "source": [
    "states.shape"
   ]
  },
  {
   "cell_type": "markdown",
   "id": "94db149c-ff6a-4bcc-a221-37f508b96679",
   "metadata": {},
   "source": [
    "## Remove multi-dora states"
   ]
  },
  {
   "cell_type": "code",
   "execution_count": null,
   "id": "31ec21c4-8fb3-49ea-abd3-f75e210aab7d",
   "metadata": {},
   "outputs": [],
   "source": [
    "states_dora_sum = states.loc[:, dora_columns].sum(axis=1)"
   ]
  },
  {
   "cell_type": "code",
   "execution_count": null,
   "id": "86c474ff-c258-4455-acf7-bb42d139ab62",
   "metadata": {},
   "outputs": [],
   "source": [
    "states = states.loc[states_dora_sum == 1]"
   ]
  },
  {
   "cell_type": "code",
   "execution_count": null,
   "id": "c9de5a01-9fa4-4d6f-841e-315c87228d16",
   "metadata": {},
   "outputs": [],
   "source": [
    "def is_chiitoi_tenpai(state):\n",
    "    hand = state[hand_columns]\n",
    "    num_pairs = len(hand.drop(hand[hand.isin([0,1])].index))\n",
    "    if num_pairs == 6:\n",
    "        return True\n",
    "    return False"
   ]
  },
  {
   "cell_type": "code",
   "execution_count": null,
   "id": "8f2525f0-c361-4075-b648-8fc657a7ebc5",
   "metadata": {},
   "outputs": [],
   "source": [
    "chiitois = Parallel(n_jobs=-1)(\n",
    "    delayed(lambda i: is_chiitoi_tenpai(i))(i)\n",
    "    for _, i in tqdm(states.iterrows())\n",
    ")"
   ]
  },
  {
   "cell_type": "code",
   "execution_count": null,
   "id": "6b09a0e5-3f86-4134-91cd-d582058f1a05",
   "metadata": {},
   "outputs": [],
   "source": [
    "pd.Series(chiitois).value_counts()"
   ]
  },
  {
   "cell_type": "code",
   "execution_count": null,
   "id": "ba4e36f0-ed38-4d1c-bcee-f0d42e346abd",
   "metadata": {},
   "outputs": [],
   "source": [
    "states['is_chiitoi'] = 0\n",
    "states.loc[chiitois,'is_chiitoi'] = 1"
   ]
  },
  {
   "cell_type": "markdown",
   "id": "29d1d9b7-6456-4573-b71c-ee01ca585123",
   "metadata": {},
   "source": [
    "# Generate Hand Groups"
   ]
  },
  {
   "cell_type": "code",
   "execution_count": null,
   "id": "7be87c77-9e15-4eee-a882-ca36517ff855",
   "metadata": {},
   "outputs": [],
   "source": [
    "hand_groups = states.groupby('group_id')"
   ]
  },
  {
   "cell_type": "markdown",
   "id": "02bb8a8a-d723-4b28-8841-8c1b08017f82",
   "metadata": {},
   "source": [
    "# Determine chiitoi tenpais in hand groups"
   ]
  },
  {
   "cell_type": "code",
   "execution_count": null,
   "id": "3dec67c2-0e28-458a-b1b1-78075f259e5f",
   "metadata": {},
   "outputs": [],
   "source": [
    "def is_chiitoi_tenpai(hand):\n",
    "    num_pairs = len(hand.drop(hand[hand.isin([0,1])].index))\n",
    "    if num_pairs == 6:\n",
    "        return True\n",
    "    return False"
   ]
  },
  {
   "cell_type": "code",
   "execution_count": null,
   "id": "445e2440-9430-49ac-afb5-de55b76f7c95",
   "metadata": {},
   "outputs": [],
   "source": [
    "def generate_is_chiitoi_dict(hand_group):\n",
    "    hand_group = hand_group.reset_index(drop=True)\n",
    "    for i, r in hand_group.iterrows():\n",
    "        if is_chiitoi_tenpai(r[hand_columns]):\n",
    "            hand_len = i\n",
    "            is_chiitoi = 1\n",
    "            return {'length': hand_len, 'is_chiitoi': is_chiitoi}\n",
    "            \n",
    "    \n",
    "    return {'length': hand_group.shape[0], 'is_chiitoi': 0}"
   ]
  },
  {
   "cell_type": "code",
   "execution_count": null,
   "id": "26baf3d1-5d6a-4aa8-8958-81f288e05f5e",
   "metadata": {},
   "outputs": [],
   "source": [
    "len_chiitois = Parallel(n_jobs=-1)(\n",
    "    delayed(lambda i: generate_is_chiitoi_dict(i))(i)\n",
    "    for _, i in tqdm(hand_groups.__iter__())\n",
    ")"
   ]
  },
  {
   "cell_type": "code",
   "execution_count": null,
   "id": "57df68be-b68c-40dd-96c2-d2d89e637962",
   "metadata": {},
   "outputs": [],
   "source": [
    "len_chi_df = pd.DataFrame(len_chiitois)"
   ]
  },
  {
   "cell_type": "code",
   "execution_count": null,
   "id": "919557c0-f9d3-46a8-8a23-7e844686a8cc",
   "metadata": {},
   "outputs": [],
   "source": [
    "len_chi_df.loc[len_chi_df['is_chiitoi'] == 1]"
   ]
  },
  {
   "cell_type": "markdown",
   "id": "79a136de-ae1a-4144-aaee-f33bef32ec43",
   "metadata": {},
   "source": [
    "# Determine discard count distribution for chiitoi tenpai hands"
   ]
  },
  {
   "cell_type": "code",
   "execution_count": null,
   "id": "5f4fd362-86e4-4f59-95f6-5e785eee6dda",
   "metadata": {},
   "outputs": [],
   "source": [
    "total_chiitoi_hands = len_chi_df.loc[len_chi_df['is_chiitoi']==1]['length'].value_counts().sum()\n",
    "chiitoi_value_counts = len_chi_df.loc[len_chi_df['is_chiitoi']==1]['length'].value_counts()"
   ]
  },
  {
   "cell_type": "code",
   "execution_count": null,
   "id": "6bc6797e-ab41-4847-969f-c1802b247462",
   "metadata": {},
   "outputs": [],
   "source": [
    "chiitoi_dist = chiitoi_value_counts/total_chiitoi_hands"
   ]
  },
  {
   "cell_type": "markdown",
   "id": "6c52ce00-5457-4fa0-8864-6d3eeaa14e7e",
   "metadata": {},
   "source": [
    "# Process hand groups"
   ]
  },
  {
   "cell_type": "code",
   "execution_count": 160,
   "id": "8a46b576-8e64-4f24-a4c5-787b41b31300",
   "metadata": {},
   "outputs": [],
   "source": [
    "def id_to_tile(id):\n",
    "    return id %34"
   ]
  },
  {
   "cell_type": "code",
   "execution_count": 161,
   "id": "5c3d116f-4090-417d-9b9d-82b31c5bd8e8",
   "metadata": {},
   "outputs": [],
   "source": [
    "def player_round_to_discards(round_df, stop = None):\n",
    "    round_df = round_df.reset_index(drop=True)\n",
    "    if stop:\n",
    "        round_df = round_df.iloc[:stop]\n",
    "    else:\n",
    "        chiitoi_hand = round_df.loc[round_df['is_chiitoi']==1]\n",
    "        if chiitoi_hand.shape[0] != 0:\n",
    "            round_df = round_df.iloc[:chiitoi_hand.index[0]+1]\n",
    "        \n",
    "    wind = [round_df['0'].iloc[0]]\n",
    "    \n",
    "    dealer = [int((round_df['1'].iloc[0] - round_df['2'].iloc[0]) == 0)]\n",
    "\n",
    "    discard_num = [round_df.shape[0]]\n",
    "    \n",
    "    last_riichi = round_df.iloc[-1][['10','11','12','13']].reset_index(drop=True)\n",
    "\n",
    "    is_riichi = [last_riichi[round_df['2'].iloc[0]]]\n",
    "    \n",
    "    dora_series = round_df[dora_columns].iloc[0]\n",
    "    dora = [id_to_tile(int(dora_series.loc[dora_series==1].index[0]))]\n",
    "\n",
    "    discards = round_df['510'].to_list()\n",
    "\n",
    "    #return wind, dealer, is_riichi, dora, discards\n",
    "\n",
    "    return wind + dealer + discard_num + is_riichi + dora + discards"
   ]
  },
  {
   "cell_type": "code",
   "execution_count": 162,
   "id": "40c14d33-952c-453b-a0ce-2a445128c6fe",
   "metadata": {},
   "outputs": [],
   "source": [
    "def handle_hand_group(hand_group, dist_chiitois):\n",
    "    \n",
    "    # first, determine if this hand group contains a chiitoi tenpai.\n",
    "    has_chiitoi_tenpai = hand_group['is_chiitoi'].sum() > 0\n",
    "\n",
    "    if has_chiitoi_tenpai:\n",
    "        return player_round_to_discards(hand_group), 1\n",
    "    else:\n",
    "        stop_val = np.random.choice(dist_chiitois.index, p=dist_chiitois)\n",
    "        return player_round_to_discards(hand_group, stop=stop_val), 0"
   ]
  },
  {
   "cell_type": "code",
   "execution_count": 163,
   "id": "239055f2-c532-4470-8a76-719f592f0bb9",
   "metadata": {},
   "outputs": [],
   "source": [
    "def generate_hand_group_dict(hand_group, dist_chiitois):\n",
    "    seq, is_chiitoi = handle_hand_group(hand_group, dist_chiitois)\n",
    "\n",
    "    return {'group_id': hand_group['group_id'].iloc[0], 'seq': seq, 'is_chiitoi': is_chiitoi}"
   ]
  },
  {
   "cell_type": "code",
   "execution_count": null,
   "id": "7276f6a2-0a5f-48b4-b5aa-97467ba2ead4",
   "metadata": {},
   "outputs": [],
   "source": [
    "full_hands = Parallel(n_jobs=-1)(\n",
    "    delayed(lambda i: generate_hand_group_dict(i, chiitoi_dist))(i)\n",
    "    for _, i in tqdm(hand_groups.__iter__())\n",
    ")"
   ]
  },
  {
   "cell_type": "markdown",
   "id": "7c3aa4f6-7f1b-47d5-83d3-fb41eaa7a5a5",
   "metadata": {},
   "source": [
    "# Export"
   ]
  },
  {
   "cell_type": "code",
   "execution_count": 165,
   "id": "68f0939a-4f33-4960-8cd5-ff7dccaaa460",
   "metadata": {},
   "outputs": [],
   "source": [
    "full_hands_df = pd.DataFrame(full_hands)"
   ]
  },
  {
   "cell_type": "code",
   "execution_count": 171,
   "id": "6cd02c93-eeed-464c-80e4-21fa25a13160",
   "metadata": {},
   "outputs": [],
   "source": [
    "full_hands_df.to_csv('full_hands_df.csv', index=False)"
   ]
  },
  {
   "cell_type": "code",
   "execution_count": null,
   "id": "c7490e76-c50d-47bd-b1e3-3a6e746aa6e7",
   "metadata": {},
   "outputs": [],
   "source": []
  }
 ],
 "metadata": {
  "kernelspec": {
   "display_name": "boxKer",
   "language": "python",
   "name": "boxker"
  },
  "language_info": {
   "codemirror_mode": {
    "name": "ipython",
    "version": 3
   },
   "file_extension": ".py",
   "mimetype": "text/x-python",
   "name": "python",
   "nbconvert_exporter": "python",
   "pygments_lexer": "ipython3",
   "version": "3.12.7"
  }
 },
 "nbformat": 4,
 "nbformat_minor": 5
}
