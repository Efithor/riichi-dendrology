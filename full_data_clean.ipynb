{
 "cells": [
  {
   "cell_type": "code",
   "execution_count": null,
   "id": "33aa20dd-4bd9-4522-a1ac-0495ea089275",
   "metadata": {},
   "outputs": [],
   "source": []
  },
  {
   "cell_type": "markdown",
   "id": "f5570737-21d5-4a74-820f-948434dc39db",
   "metadata": {},
   "source": [
    "# Imports"
   ]
  },
  {
   "cell_type": "code",
   "execution_count": 173,
   "id": "ff4ad9f7-b50a-4938-91b2-e51fff36e5ca",
   "metadata": {},
   "outputs": [],
   "source": [
    "import pandas as pd\n",
    "import numpy as np\n",
    "from joblib import Parallel, delayed\n",
    "from tqdm import tqdm\n",
    "import plotly.express as px"
   ]
  },
  {
   "cell_type": "code",
   "execution_count": null,
   "id": "93128843-03cb-447a-8498-a73d9d34fb94",
   "metadata": {},
   "outputs": [],
   "source": [
    "pd.set_option('display.max_columns', None)\n",
    "pd.set_option('display.max_rows', 300)"
   ]
  },
  {
   "cell_type": "markdown",
   "id": "0eaae398-7c75-4cba-9ca2-459070a6b825",
   "metadata": {},
   "source": [
    "# Load"
   ]
  },
  {
   "cell_type": "code",
   "execution_count": null,
   "id": "7e5cc55d-fadf-40ef-a879-8cc71ecf1335",
   "metadata": {},
   "outputs": [],
   "source": [
    "file_path = 'E:/ML/datasets/mahjong/data/2019/block_5000.parquet'"
   ]
  },
  {
   "cell_type": "code",
   "execution_count": null,
   "id": "c49a0ebb-549e-49d8-bc92-1146a5a1c1b9",
   "metadata": {},
   "outputs": [],
   "source": [
    "states = pd.read_parquet(file_path)"
   ]
  },
  {
   "cell_type": "code",
   "execution_count": null,
   "id": "0908bb91-5ced-4417-8f67-a93fffa68edc",
   "metadata": {},
   "outputs": [],
   "source": [
    "states.columns = states.columns.map(\n",
    "    str\n",
    ")"
   ]
  },
  {
   "cell_type": "markdown",
   "id": "c4c999f4-4fa4-4ea4-8855-b9899390f32a",
   "metadata": {},
   "source": [
    "## Trim unneeded columns to save on space"
   ]
  },
  {
   "cell_type": "code",
   "execution_count": null,
   "id": "c4b3cf71-cd7d-4131-be70-7d5c364a3166",
   "metadata": {},
   "outputs": [],
   "source": [
    "dora_columns = []\n",
    "for i in range(34,68):\n",
    "    dora_columns = dora_columns + [str(i)]"
   ]
  },
  {
   "cell_type": "code",
   "execution_count": null,
   "id": "fc0dfee4-a1cc-4d62-a72e-9b5de3140dfe",
   "metadata": {},
   "outputs": [],
   "source": [
    "hand_columns = []\n",
    "for i in range(68,102):\n",
    "    hand_columns = hand_columns + [str(i)]"
   ]
  },
  {
   "cell_type": "code",
   "execution_count": null,
   "id": "b4bb5876-fbf5-478a-aaf7-31836af3f25e",
   "metadata": {},
   "outputs": [],
   "source": [
    "states['group_id'] = states['511'].astype(str) + states['32'].astype(str) + states['2'].astype(str)"
   ]
  },
  {
   "cell_type": "code",
   "execution_count": null,
   "id": "7d74d3be-08c0-4cde-a309-ddb288900911",
   "metadata": {},
   "outputs": [],
   "source": [
    "columns_of_interest = ['group_id'] + ['0', '1','2','10','11','12','13'] + dora_columns + hand_columns + ['510']"
   ]
  },
  {
   "cell_type": "code",
   "execution_count": null,
   "id": "ff6284b5-7228-425d-9463-8394f67e00ec",
   "metadata": {},
   "outputs": [],
   "source": [
    "states = states[columns_of_interest] "
   ]
  },
  {
   "cell_type": "code",
   "execution_count": null,
   "id": "f0eddc2a-6596-47c5-a12b-097c52f27136",
   "metadata": {},
   "outputs": [],
   "source": [
    "states[states.columns[1:]] = states[states.columns[1:]].astype(int)"
   ]
  },
  {
   "cell_type": "code",
   "execution_count": null,
   "id": "cc227a5b-d3aa-437d-8a53-d5aae08edea1",
   "metadata": {},
   "outputs": [],
   "source": [
    "states.shape"
   ]
  },
  {
   "cell_type": "markdown",
   "id": "f671e922-a500-40d3-ab38-e506b4229947",
   "metadata": {},
   "source": [
    "## Remove multi-dora states"
   ]
  },
  {
   "cell_type": "code",
   "execution_count": null,
   "id": "39c5fc94-ec04-4022-b42d-c195fe16bdb4",
   "metadata": {},
   "outputs": [],
   "source": [
    "states_dora_sum = states.loc[:, dora_columns].sum(axis=1)"
   ]
  },
  {
   "cell_type": "code",
   "execution_count": null,
   "id": "95eda8de-ff3b-4ec4-96fa-879cdb213fc4",
   "metadata": {},
   "outputs": [],
   "source": [
    "states = states.loc[states_dora_sum == 1]"
   ]
  },
  {
   "cell_type": "code",
   "execution_count": null,
   "id": "4d4cf929-5cab-45e7-8c2a-eb13b7c84ce9",
   "metadata": {},
   "outputs": [],
   "source": [
    "def is_chiitoi_tenpai(state):\n",
    "    hand = state[hand_columns]\n",
    "    num_pairs = len(hand.drop(hand[hand.isin([0,1])].index))\n",
    "    if num_pairs == 6:\n",
    "        return True\n",
    "    return False"
   ]
  },
  {
   "cell_type": "code",
   "execution_count": null,
   "id": "17cc7f17-dad7-4e34-8a55-44a2d09bd518",
   "metadata": {},
   "outputs": [],
   "source": [
    "chiitois = Parallel(n_jobs=-1)(\n",
    "    delayed(lambda i: is_chiitoi_tenpai(i))(i)\n",
    "    for _, i in tqdm(states.iterrows())\n",
    ")"
   ]
  },
  {
   "cell_type": "code",
   "execution_count": null,
   "id": "97bd2f67-ecec-434d-9cc2-5e8f34443e2a",
   "metadata": {},
   "outputs": [],
   "source": [
    "pd.Series(chiitois).value_counts()"
   ]
  },
  {
   "cell_type": "code",
   "execution_count": null,
   "id": "6dc6d5a0-a9a2-4b7c-b77b-a12ca7f39c4f",
   "metadata": {},
   "outputs": [],
   "source": [
    "states['is_chiitoi'] = 0\n",
    "states.loc[chiitois,'is_chiitoi'] = 1"
   ]
  },
  {
   "cell_type": "markdown",
   "id": "c157c042-96e1-4baa-ac20-3dede93bd55d",
   "metadata": {},
   "source": [
    "# Generate Hand Groups"
   ]
  },
  {
   "cell_type": "code",
   "execution_count": null,
   "id": "f1abd8c5-2d86-445f-964b-60a27e1af973",
   "metadata": {},
   "outputs": [],
   "source": [
    "hand_groups = states.groupby('group_id')"
   ]
  },
  {
   "cell_type": "markdown",
   "id": "d93d8dc1-97e4-4e7f-8f4f-67abd0d5328f",
   "metadata": {},
   "source": [
    "# Determine chiitoi tenpais in hand groups"
   ]
  },
  {
   "cell_type": "code",
   "execution_count": null,
   "id": "a42ec2ae-39c5-4cf2-9f53-96e68cef843f",
   "metadata": {},
   "outputs": [],
   "source": [
    "def is_chiitoi_tenpai(hand):\n",
    "    num_pairs = len(hand.drop(hand[hand.isin([0,1])].index))\n",
    "    if num_pairs == 6:\n",
    "        return True\n",
    "    return False"
   ]
  },
  {
   "cell_type": "code",
   "execution_count": null,
   "id": "29e9f7c0-66fe-487e-a3a0-30fb8c854576",
   "metadata": {},
   "outputs": [],
   "source": [
    "def generate_is_chiitoi_dict(hand_group):\n",
    "    hand_group = hand_group.reset_index(drop=True)\n",
    "    for i, r in hand_group.iterrows():\n",
    "        if is_chiitoi_tenpai(r[hand_columns]):\n",
    "            hand_len = i\n",
    "            is_chiitoi = 1\n",
    "            return {'length': hand_len, 'is_chiitoi': is_chiitoi}\n",
    "            \n",
    "    \n",
    "    return {'length': hand_group.shape[0], 'is_chiitoi': 0}"
   ]
  },
  {
   "cell_type": "code",
   "execution_count": null,
   "id": "408785e1-d7e6-4537-b666-5a50062f012a",
   "metadata": {},
   "outputs": [],
   "source": [
    "len_chiitois = Parallel(n_jobs=-1)(\n",
    "    delayed(lambda i: generate_is_chiitoi_dict(i))(i)\n",
    "    for _, i in tqdm(hand_groups.__iter__())\n",
    ")"
   ]
  },
  {
   "cell_type": "code",
   "execution_count": null,
   "id": "2e59dd03-4144-49ec-9f48-d0cc23873699",
   "metadata": {},
   "outputs": [],
   "source": [
    "len_chi_df = pd.DataFrame(len_chiitois)"
   ]
  },
  {
   "cell_type": "code",
   "execution_count": null,
   "id": "f3e50fa2-628f-4a1f-ba8d-5a34d4eb3c94",
   "metadata": {},
   "outputs": [],
   "source": [
    "len_chi_df.loc[len_chi_df['is_chiitoi'] == 1]"
   ]
  },
  {
   "cell_type": "markdown",
   "id": "358b783a-23db-49ee-beb0-9197f851fcd0",
   "metadata": {},
   "source": [
    "# Determine discard count distribution for chiitoi tenpai hands"
   ]
  },
  {
   "cell_type": "code",
   "execution_count": null,
   "id": "808a30cc-fdd4-448f-aa02-0945b376f264",
   "metadata": {},
   "outputs": [],
   "source": [
    "total_chiitoi_hands = len_chi_df.loc[len_chi_df['is_chiitoi']==1]['length'].value_counts().sum()\n",
    "chiitoi_value_counts = len_chi_df.loc[len_chi_df['is_chiitoi']==1]['length'].value_counts()"
   ]
  },
  {
   "cell_type": "code",
   "execution_count": null,
   "id": "17d5aff8-3ab2-4a7d-bd7b-d98826d5f303",
   "metadata": {},
   "outputs": [],
   "source": [
    "chiitoi_dist = chiitoi_value_counts/total_chiitoi_hands"
   ]
  },
  {
   "cell_type": "markdown",
   "id": "8c00c219-43fa-4966-a46b-d118c420fe74",
   "metadata": {},
   "source": [
    "# Process hand groups"
   ]
  },
  {
   "cell_type": "code",
   "execution_count": 160,
   "id": "617f8b6f-4692-41f6-b4df-4bb335558215",
   "metadata": {},
   "outputs": [],
   "source": [
    "def id_to_tile(id):\n",
    "    return id %34"
   ]
  },
  {
   "cell_type": "code",
   "execution_count": 161,
   "id": "71a7c4bd-80fd-4909-a085-f1e75629cbb2",
   "metadata": {},
   "outputs": [],
   "source": [
    "def player_round_to_discards(round_df, stop = None):\n",
    "    round_df = round_df.reset_index(drop=True)\n",
    "    if stop:\n",
    "        round_df = round_df.iloc[:stop]\n",
    "    else:\n",
    "        chiitoi_hand = round_df.loc[round_df['is_chiitoi']==1]\n",
    "        if chiitoi_hand.shape[0] != 0:\n",
    "            round_df = round_df.iloc[:chiitoi_hand.index[0]+1]\n",
    "        \n",
    "    wind = [round_df['0'].iloc[0]]\n",
    "    \n",
    "    dealer = [int((round_df['1'].iloc[0] - round_df['2'].iloc[0]) == 0)]\n",
    "\n",
    "    discard_num = [round_df.shape[0]]\n",
    "    \n",
    "    last_riichi = round_df.iloc[-1][['10','11','12','13']].reset_index(drop=True)\n",
    "\n",
    "    is_riichi = [last_riichi[round_df['2'].iloc[0]]]\n",
    "    \n",
    "    dora_series = round_df[dora_columns].iloc[0]\n",
    "    dora = [id_to_tile(int(dora_series.loc[dora_series==1].index[0]))]\n",
    "\n",
    "    discards = round_df['510'].to_list()\n",
    "\n",
    "    #return wind, dealer, is_riichi, dora, discards\n",
    "\n",
    "    return wind + dealer + discard_num + is_riichi + dora + discards"
   ]
  },
  {
   "cell_type": "code",
   "execution_count": 162,
   "id": "05b64293-325f-452f-acee-3ef312e879e1",
   "metadata": {},
   "outputs": [],
   "source": [
    "def handle_hand_group(hand_group, dist_chiitois):\n",
    "    \n",
    "    # first, determine if this hand group contains a chiitoi tenpai.\n",
    "    has_chiitoi_tenpai = hand_group['is_chiitoi'].sum() > 0\n",
    "\n",
    "    if has_chiitoi_tenpai:\n",
    "        return player_round_to_discards(hand_group), 1\n",
    "    else:\n",
    "        stop_val = np.random.choice(dist_chiitois.index, p=dist_chiitois)\n",
    "        return player_round_to_discards(hand_group, stop=stop_val), 0"
   ]
  },
  {
   "cell_type": "code",
   "execution_count": 163,
   "id": "f65efb46-98d7-4a26-b9d7-8ca1742ce0c5",
   "metadata": {},
   "outputs": [],
   "source": [
    "def generate_hand_group_dict(hand_group, dist_chiitois):\n",
    "    seq, is_chiitoi = handle_hand_group(hand_group, dist_chiitois)\n",
    "\n",
    "    return {'group_id': hand_group['group_id'].iloc[0], 'seq': seq, 'is_chiitoi': is_chiitoi}"
   ]
  },
  {
   "cell_type": "code",
   "execution_count": null,
   "id": "c0a8f9aa-1467-4b90-a447-5c1daa911791",
   "metadata": {},
   "outputs": [],
   "source": [
    "full_hands = Parallel(n_jobs=-1)(\n",
    "    delayed(lambda i: generate_hand_group_dict(i, chiitoi_dist))(i)\n",
    "    for _, i in tqdm(hand_groups.__iter__())\n",
    ")"
   ]
  },
  {
   "cell_type": "markdown",
   "id": "7711e38b-beca-499b-bc65-734163306754",
   "metadata": {},
   "source": [
    "# Export"
   ]
  },
  {
   "cell_type": "code",
   "execution_count": 165,
   "id": "24d17d26-f826-427d-9fdf-9863f888840d",
   "metadata": {},
   "outputs": [],
   "source": [
    "full_hands_df = pd.DataFrame(full_hands)"
   ]
  },
  {
   "cell_type": "code",
   "execution_count": 171,
   "id": "e18a64f7-e70c-47ae-9826-7ec6f41f6765",
   "metadata": {},
   "outputs": [],
   "source": [
    "full_hands_df.to_csv('full_hands_df.csv', index=False)"
   ]
  },
  {
   "cell_type": "code",
   "execution_count": null,
   "id": "95195f2e-5498-42ce-a6ca-d73c6d4bc6f6",
   "metadata": {},
   "outputs": [],
   "source": []
  }
 ],
 "metadata": {
  "kernelspec": {
   "display_name": "Python 3 (ipykernel)",
   "language": "python",
   "name": "python3"
  },
  "language_info": {
   "codemirror_mode": {
    "name": "ipython",
    "version": 3
   },
   "file_extension": ".py",
   "mimetype": "text/x-python",
   "name": "python",
   "nbconvert_exporter": "python",
   "pygments_lexer": "ipython3",
   "version": "3.12.7"
  }
 },
 "nbformat": 4,
 "nbformat_minor": 5
}
